{
 "cells": [
  {
   "cell_type": "code",
   "execution_count": 3,
   "metadata": {
    "id": "3ewNwfFvbFaR"
   },
   "outputs": [],
   "source": [
    "import time \n",
    " \n",
    "import numpy as np \n",
    "import matplotlib.pyplot as plt \n",
    "\n",
    "import json \n",
    "import time \n",
    "import pickle \n",
    "import sys \n",
    "import csv \n",
    "import os \n",
    "import os.path as osp \n",
    "import shutil \n",
    "\n",
    "import pandas as pd\n",
    "\n",
    "from IPython.display import display, HTML\n",
    " \n",
    "%matplotlib inline \n",
    "plt.rcParams['figure.figsize'] = (10.0, 8.0) # set default size of plots \n",
    "plt.rcParams['image.interpolation'] = 'nearest' \n",
    "plt.rcParams['image.cmap'] = 'gray' \n",
    " \n",
    "# for auto-reloading external modules \n",
    "# see http://stackoverflow.com/questions/1907993/autoreload-of-modules-in-ipython \n",
    "%load_ext autoreload\n",
    "%autoreload 2"
   ]
  },
  {
   "cell_type": "code",
   "execution_count": 4,
   "metadata": {
    "id": "640GrzbOevr0"
   },
   "outputs": [],
   "source": [
    "# Some suggestions of our libraries that might be helpful for this project\n",
    "from collections import Counter          # an even easier way to count\n",
    "from multiprocessing import Pool         # for multiprocessing\n",
    "from tqdm import tqdm                    # fancy progress bars\n",
    "\n",
    "# Load other libraries here.\n",
    "# Keep it minimal! We should be easily able to reproduce your code.\n",
    "# We only support sklearn and pytorch.\n",
    "\n",
    "\n",
    "\n",
    "\n",
    "# We preload pytorch as an example\n",
    "import torch\n",
    "import torch.nn as nn\n",
    "import torch.nn.functional as F\n",
    "import torch.optim as optim\n",
    "from torch.utils.data import DataLoader, Dataset, TensorDataset\n",
    "from skimage import exposure\n",
    "import numpy as np\n",
    "import imutils\n",
    "import cv2\n",
    "import sklearn\n",
    "from sklearn.model_selection import train_test_split\n",
    "from sklearn.metrics import accuracy_score\n",
    "from sklearn.svm import SVC, LinearSVC\n",
    "\n",
    "import torch\n",
    "import torchvision\n",
    "import torchvision.transforms as transforms\n",
    "import torchvision.datasets as datasets\n",
    "import torch.utils.data as data\n",
    "import random\n",
    "import seaborn as sns\n",
    "import time\n",
    "\n",
    "log_interval = 10\n",
    "random_seed = 1\n",
    "torch.backends.cudnn.enabled = False\n",
    "torch.manual_seed(random_seed)\n",
    "rndm_state = 42"
   ]
  },
  {
   "cell_type": "code",
   "execution_count": 5,
   "metadata": {
    "id": "GJZPEAWYMhYB"
   },
   "outputs": [],
   "source": [
    "compute_mode = 'gpu'\n",
    "\n",
    "if compute_mode == 'cpu':\n",
    "    device = torch.device('cpu')\n",
    "elif compute_mode == 'gpu':\n",
    "    # If you are using pytorch on the GPU cluster, you have to manually specify which GPU device to use\n",
    "    # It is extremely important that you *do not* spawn multi-GPU jobs.\n",
    "    os.environ[\"CUDA_VISIBLE_DEVICES\"] = '0'    # Set device ID here\n",
    "    device = torch.device('cuda')\n",
    "else:\n",
    "    raise ValueError('Unrecognized compute mode')"
   ]
  },
  {
   "cell_type": "markdown",
   "metadata": {
    "id": "n1pcmKkyjT7y"
   },
   "source": [
    "# Attacking an ML-model\n",
    "\n",
    "\n",
    "\n"
   ]
  },
  {
   "cell_type": "markdown",
   "metadata": {
    "id": "zbUqa311_7NP"
   },
   "source": [
    "Loading data:"
   ]
  },
  {
   "cell_type": "code",
   "execution_count": 6,
   "metadata": {
    "colab": {
     "base_uri": "https://localhost:8080/",
     "height": 474,
     "referenced_widgets": [
      "6e28424f25d3492c8fa3c09d119b66e0",
      "925c3519df6041ec917e0ea095eea486",
      "bf824a648b0a4adab3af81029013e097",
      "275e804e4e3445308524fd5542fd6855",
      "3d066fd0a90f4ff1ae905a9946a9cc8b",
      "b7eeb1e4b3ea4d3cabb183823e11f676",
      "65a5bb2395c24147ba85d7136aaa17a6",
      "18c73292dae54044b07f32d3f7f75db7",
      "545f9dc01bac44ef994ce12319ff5c90",
      "d48e17c19ff24cfd983d78dcb2e00f0c",
      "bd09079663094fb297c40610b43574d0",
      "2def8db90cc04f8a8b8be03c7c930438",
      "0d9c70295dea474198e4e063c370fb25",
      "7dad88b878de4300b88524b75ef21a74",
      "1978bbcd003c466da2faacdcd75107bb",
      "a0c5072c0df84f568d1fe3340f87baf3",
      "521dbbe063b241b6aa961f0153b86af3",
      "a1dc4a0dfa3d43b59df47d7647fff688",
      "b77d88208fab40f9be66f1b78ca9db5c",
      "3d7673a0f1d04418bb6f019256f41f2e",
      "14dfb6e86d42462b805141567e5a5b13",
      "8c2ff38a81b245548102028ee6d5784e",
      "5dd2e5ba37324e62b2d3b4fa946817e7",
      "0004dbbc8a5944efb136572bf5903eb8",
      "7959c449a78d4716a1c334e610447843",
      "c9e1cbf2f5c34094ac5f078fc18c0f1b",
      "74fc29c1887345619be41a4cd10eda7f",
      "021f0dc5f77c4d6280a79018d5c635d9",
      "5508dfdf57f4415097611f20108dc60a",
      "7a383ad9e6f64840b91f8425b013b464",
      "d6ce28c52b3340f3bdc79acf905bb05b",
      "ea7c1d22995346e4998919171c625c01",
      "d05d63509d474c25bf7e3fca4a684a8e",
      "863e19a96f0a4b3fbdbbc86b27816810",
      "5826b0510c574b11983ddd1f58688bfb",
      "87951953ceb44ff685614860a082d413",
      "ff79313222a14379b44b04414d55331f",
      "0b76aea01dbb4333a732c9d38319978a",
      "4a8f2251bbd8407e8e30382ad58ce19b",
      "8a761b2d78024cde81d90666d2088d0a",
      "e9a8adc23c494aeba220522a506353a9",
      "40631ce7add746a8991aa66a2bdf7b26",
      "54cfef52eb394cfc85382f2b2304dd59",
      "39f38f9315fa429eb7c5f8d1247f3265"
     ]
    },
    "id": "qhMVATz__6h_",
    "outputId": "965b1fbb-0008-497f-ba1c-fd20e380882c"
   },
   "outputs": [
    {
     "name": "stdout",
     "output_type": "stream",
     "text": [
      "Downloading http://yann.lecun.com/exdb/mnist/train-images-idx3-ubyte.gz\n",
      "Downloading http://yann.lecun.com/exdb/mnist/train-images-idx3-ubyte.gz to ./data/MNIST/raw/train-images-idx3-ubyte.gz\n"
     ]
    },
    {
     "data": {
      "application/vnd.jupyter.widget-view+json": {
       "model_id": "6e28424f25d3492c8fa3c09d119b66e0",
       "version_major": 2,
       "version_minor": 0
      },
      "text/plain": [
       "  0%|          | 0/9912422 [00:00<?, ?it/s]"
      ]
     },
     "metadata": {},
     "output_type": "display_data"
    },
    {
     "name": "stdout",
     "output_type": "stream",
     "text": [
      "Extracting ./data/MNIST/raw/train-images-idx3-ubyte.gz to ./data/MNIST/raw\n",
      "\n",
      "Downloading http://yann.lecun.com/exdb/mnist/train-labels-idx1-ubyte.gz\n",
      "Downloading http://yann.lecun.com/exdb/mnist/train-labels-idx1-ubyte.gz to ./data/MNIST/raw/train-labels-idx1-ubyte.gz\n"
     ]
    },
    {
     "data": {
      "application/vnd.jupyter.widget-view+json": {
       "model_id": "2def8db90cc04f8a8b8be03c7c930438",
       "version_major": 2,
       "version_minor": 0
      },
      "text/plain": [
       "  0%|          | 0/28881 [00:00<?, ?it/s]"
      ]
     },
     "metadata": {},
     "output_type": "display_data"
    },
    {
     "name": "stdout",
     "output_type": "stream",
     "text": [
      "Extracting ./data/MNIST/raw/train-labels-idx1-ubyte.gz to ./data/MNIST/raw\n",
      "\n",
      "Downloading http://yann.lecun.com/exdb/mnist/t10k-images-idx3-ubyte.gz\n",
      "Downloading http://yann.lecun.com/exdb/mnist/t10k-images-idx3-ubyte.gz to ./data/MNIST/raw/t10k-images-idx3-ubyte.gz\n"
     ]
    },
    {
     "data": {
      "application/vnd.jupyter.widget-view+json": {
       "model_id": "5dd2e5ba37324e62b2d3b4fa946817e7",
       "version_major": 2,
       "version_minor": 0
      },
      "text/plain": [
       "  0%|          | 0/1648877 [00:00<?, ?it/s]"
      ]
     },
     "metadata": {},
     "output_type": "display_data"
    },
    {
     "name": "stdout",
     "output_type": "stream",
     "text": [
      "Extracting ./data/MNIST/raw/t10k-images-idx3-ubyte.gz to ./data/MNIST/raw\n",
      "\n",
      "Downloading http://yann.lecun.com/exdb/mnist/t10k-labels-idx1-ubyte.gz\n",
      "Downloading http://yann.lecun.com/exdb/mnist/t10k-labels-idx1-ubyte.gz to ./data/MNIST/raw/t10k-labels-idx1-ubyte.gz\n"
     ]
    },
    {
     "data": {
      "application/vnd.jupyter.widget-view+json": {
       "model_id": "863e19a96f0a4b3fbdbbc86b27816810",
       "version_major": 2,
       "version_minor": 0
      },
      "text/plain": [
       "  0%|          | 0/4542 [00:00<?, ?it/s]"
      ]
     },
     "metadata": {},
     "output_type": "display_data"
    },
    {
     "name": "stdout",
     "output_type": "stream",
     "text": [
      "Extracting ./data/MNIST/raw/t10k-labels-idx1-ubyte.gz to ./data/MNIST/raw\n",
      "\n",
      "x_trainval.shape = (54000, 28, 28),  y_trainval.shape = (54000,)\n",
      "x_test.shape = (10000, 28, 28),  y_test.shape = (10000,)\n",
      "(6000, 28, 28)\n"
     ]
    }
   ],
   "source": [
    "\n",
    "root = './data'\n",
    "if not os.path.exists(root):\n",
    "    os.mkdir(root)\n",
    "trans = transforms.Compose([transforms.ToTensor()])\n",
    "\n",
    "# if not exist, download mnist dataset\n",
    "x_trainval_n = torchvision.datasets.MNIST(root=root, train=True, transform=trans, download=True) \n",
    "\n",
    "y_trainval_n = torchvision.datasets.MNIST(root=root, train=False, transform=trans, download=True) \n",
    "\n",
    "x_trainval_nf = (x_trainval_n.data).cpu().detach().numpy()\n",
    "\n",
    "\n",
    "y_trainval = (x_trainval_n.targets).cpu().detach().numpy()  # tensor to np.array\n",
    "\n",
    "x_test_nf =   (y_trainval_n.data).cpu().detach().numpy() \n",
    "\n",
    "y_test = (y_trainval_n.targets).cpu().detach().numpy()   # tensor to np.array\n",
    "\n",
    "(x_trainval_nf, x_eval_nf_g, y_trainval, y_eval_g) = train_test_split(x_trainval_nf, y_trainval,\n",
    "\ttest_size=0.1, random_state=84)\n",
    "\n",
    "print('x_trainval.shape = {},  y_trainval.shape = {}'.format(x_trainval_nf.shape, y_trainval.shape))\n",
    "print('x_test.shape = {},  y_test.shape = {}'.format(x_test_nf.shape, y_test.shape))\n",
    "print(x_eval_nf_g.shape)"
   ]
  },
  {
   "cell_type": "markdown",
   "metadata": {
    "id": "CRO1CcBMADrH"
   },
   "source": [
    "Defining parameters:"
   ]
  },
  {
   "cell_type": "code",
   "execution_count": 7,
   "metadata": {
    "id": "4vY5ER2HAGWf"
   },
   "outputs": [],
   "source": [
    "input_size =  1\n",
    "hidden_layers = [20,144]\n",
    "num_classes = 10\n",
    "num_epochs = 10\n",
    "batch_size = 2000\n",
    "learning_rate = 0.001\n",
    "learning_rate_decay = 0.95\n",
    "reg= 0.001\n",
    "num_training= 50000\n",
    "num_validation =10000\n",
    "dropout = \"yes\"\n",
    "\n",
    "val_accu = []\n",
    "val_accu_data = 0\n",
    "last = 0\n",
    "loss_ar = []\n",
    "valid_losses = []\n",
    "count =0\n",
    "valid_losses_sum = 0\n",
    "train_accu = []\n",
    "correct_train = 0\n",
    "total_train = 0\n",
    "best_accuracy = 0\n",
    "loss_values = []\n",
    "\n",
    "\n",
    "test_set = 'val'  #  or 'test'\n",
    "# Decide all your hyperparameters based on validation performance\n",
    "# Then, switch to 'test' for final evaluation\n",
    "if test_set == 'val':\n",
    "    mask = list(range(num_training))\n",
    "    train_dataset = torch.utils.data.Subset(x_trainval_n, mask)\n",
    "    mask = list(range(num_training, num_training + num_validation))\n",
    "    val_dataset = torch.utils.data.Subset(x_trainval_n, mask) \n",
    "else:\n",
    "    y_trainval_n = y_trainval_n\n",
    " "
   ]
  },
  {
   "cell_type": "markdown",
   "metadata": {
    "id": "3it0yhrGAVPn"
   },
   "source": [
    "Data Loader:"
   ]
  },
  {
   "cell_type": "code",
   "execution_count": 8,
   "metadata": {
    "colab": {
     "base_uri": "https://localhost:8080/"
    },
    "id": "5qxt2_S6AXkF",
    "outputId": "f5e578d2-b725-4758-854a-27fd20224769"
   },
   "outputs": [
    {
     "name": "stdout",
     "output_type": "stream",
     "text": [
      "cuda\n"
     ]
    }
   ],
   "source": [
    "device = torch.device('cuda' if torch.cuda.is_available() else 'cpu')\n",
    "print(device)\n",
    "\n",
    "train_loader_nn = torch.utils.data.DataLoader(dataset=train_dataset,\n",
    "                                           batch_size=batch_size,\n",
    "                                           shuffle=True)\n",
    "\n",
    "val_loader_nn = torch.utils.data.DataLoader(dataset=val_dataset,\n",
    "                                           batch_size=batch_size,\n",
    "                                           shuffle=False)\n",
    "\n",
    "test_loader_nn = torch.utils.data.DataLoader(dataset=y_trainval_n,\n",
    "                                          batch_size=batch_size,\n",
    "                                          shuffle=False)\n",
    "\n",
    "# subset_indices = [0] # select your indices here as a list\n",
    "subset_indices = list(range(0, 3000, 1))#y_trainval_n\n",
    "subset = torch.utils.data.Subset(y_trainval_n, subset_indices)\n",
    "test_loader_nn_subset = torch.utils.data.DataLoader(dataset=subset,\n",
    "                                          batch_size=1,\n",
    "                                          shuffle=False)"
   ]
  },
  {
   "cell_type": "markdown",
   "metadata": {
    "id": "fp2fiKQGAd-F"
   },
   "source": [
    "Defining model:"
   ]
  },
  {
   "cell_type": "code",
   "execution_count": 9,
   "metadata": {
    "id": "3Tc6UO1TAgIJ"
   },
   "outputs": [],
   "source": [
    "class Net(nn.Module):\n",
    "    def __init__(self, input_size, hidden_layers, num_classes, dropout):\n",
    "        super(Net, self).__init__()\n",
    "        self.layers = []\n",
    "        if dropout == \"no\":\n",
    "          self.layers.append(nn.Conv2d(input_size,hidden_layers[0],5))\n",
    "          self.layers.append(nn.ReLU())\n",
    "          self.layers.append(nn.MaxPool2d(stride = 1, kernel_size = 2))\n",
    "          self.layers.append(nn.Conv2d(hidden_layers[0],hidden_layers[1],5))\n",
    "          self.layers.append(nn.ReLU())\n",
    "          self.layers.append(nn.MaxPool2d(kernel_size = 2, stride = 1))\n",
    "          #self.layers.append(nn.Linear(hidden_layers[1],num_classes))\n",
    "          self.layers = nn.Sequential(*self.layers)\n",
    "          #self.f = nn.flatten()\n",
    "          self.fc = nn.Sequential(nn.Linear(46656,num_classes))\n",
    "          # self.fc2 = nn.Sequential(nn.Softmax())\n",
    "          self.fullnn = [self.layers,self.fc]\n",
    "        else:\n",
    "          self.layers.append(nn.Conv2d(input_size,hidden_layers[0],5))\n",
    "          self.layers.append(nn.ReLU())\n",
    "          self.layers.append(nn.MaxPool2d(stride = 1, kernel_size = 2))\n",
    "          self.layers.append(nn.Dropout(0.5))\n",
    "          self.layers.append(nn.Conv2d(hidden_layers[0],hidden_layers[1],5))\n",
    "          self.layers.append(nn.ReLU())\n",
    "          self.layers.append(nn.MaxPool2d(kernel_size = 2, stride = 1))\n",
    "          self.layers.append(nn.Dropout(0.5))\n",
    "          #self.layers.append(nn.Linear(hidden_layers[1],num_classes))\n",
    "          self.layers = nn.Sequential(*self.layers)\n",
    "          #self.f = nn.flatten()\n",
    "          self.fc = nn.Sequential(nn.Linear(46656,num_classes))\n",
    "          # self.fc2 = nn.Sequential(nn.Softmax())\n",
    "          self.fullnn = [self.layers,self.fc]\n",
    "\n",
    "    def forward(self, x):\n",
    "     \n",
    "        x = self.layers(x)\n",
    "        x = x.view(x.size(0), -1)\n",
    "        out1 = (self.fc(x))\n",
    "      \n",
    "        return out1"
   ]
  },
  {
   "cell_type": "markdown",
   "metadata": {
    "id": "xZfzMdX0Aj-r"
   },
   "source": [
    "Weight Initialization function and learning rate update function:"
   ]
  },
  {
   "cell_type": "code",
   "execution_count": 10,
   "metadata": {
    "id": "ziRjVhHKAkjB"
   },
   "outputs": [],
   "source": [
    "#initialization of weights for conv2d layers\n",
    "\n",
    "def weights_init(m):\n",
    "    if type(m) == nn.Conv2d:\n",
    "        m.weight.data.normal_(0.0, 1e-3)\n",
    "\n",
    "#update learning rate after one step of backprop        \n",
    "def update_lr(optimizer, lr):\n",
    "    for param_group in optimizer.param_groups:\n",
    "        param_group['lr'] = lr "
   ]
  },
  {
   "cell_type": "markdown",
   "metadata": {
    "id": "2ZBoDY8uAui_"
   },
   "source": [
    "Model creation:"
   ]
  },
  {
   "cell_type": "code",
   "execution_count": 11,
   "metadata": {
    "id": "07rD_VXHAu_d"
   },
   "outputs": [],
   "source": [
    "model = Net(input_size, hidden_layers, num_classes, dropout).to(device)"
   ]
  },
  {
   "cell_type": "markdown",
   "metadata": {
    "id": "WLcLd3m0A6vo"
   },
   "source": [
    "Test function for model accuracy:"
   ]
  },
  {
   "cell_type": "code",
   "execution_count": 12,
   "metadata": {
    "id": "F5UVmbm-A7Oh"
   },
   "outputs": [],
   "source": [
    "def test_nn(test_loader_nn,model):\n",
    "   \n",
    "   with torch.no_grad():\n",
    "      correct = 0\n",
    "      total = 0\n",
    "      for images, labels in test_loader_nn:\n",
    "          \n",
    "          images = images.to(device)\n",
    "         \n",
    "          labels = labels.to(device)\n",
    "          outputs = model(images)\n",
    "          _, predicted = torch.max(outputs.data, 1)\n",
    "          total += labels.size(0)\n",
    "          correct += (predicted == labels).sum().item()\n",
    "          \n",
    "          # if total == 1000:\n",
    "          #     break\n",
    "\n",
    "      print('Accuracy of the network on the {} test images: {} %'.format(total, 100 * correct / total))\n",
    "   return predicted"
   ]
  },
  {
   "cell_type": "markdown",
   "metadata": {
    "id": "uvDypKCuBXpq"
   },
   "source": [
    "Loading the best model from Task 1:"
   ]
  },
  {
   "cell_type": "code",
   "execution_count": 13,
   "metadata": {
    "colab": {
     "base_uri": "https://localhost:8080/"
    },
    "id": "roJJm01iBYBN",
    "outputId": "fa245dab-62be-4e61-c57b-6f7860b08440"
   },
   "outputs": [
    {
     "data": {
      "text/plain": [
       "<All keys matched successfully>"
      ]
     },
     "execution_count": 13,
     "metadata": {},
     "output_type": "execute_result"
    }
   ],
   "source": [
    "model_name = \"best_modelyes_after\"\n",
    "model = Net(input_size, hidden_layers, num_classes, dropout).to(device)\n",
    "model.load_state_dict(torch.load(str(model_name)+'.ckpt'))"
   ]
  },
  {
   "cell_type": "markdown",
   "metadata": {
    "id": "0nqzA9xVCJGh"
   },
   "source": [
    "Test accuracy score for loaded model:"
   ]
  },
  {
   "cell_type": "code",
   "execution_count": 14,
   "metadata": {
    "colab": {
     "base_uri": "https://localhost:8080/"
    },
    "id": "T010sy_2CH7A",
    "outputId": "9648f1c9-5535-4694-95cd-d9eb2911f513"
   },
   "outputs": [
    {
     "name": "stdout",
     "output_type": "stream",
     "text": [
      "Accuracy of the network on the 10000 test images: 98.39 %\n"
     ]
    }
   ],
   "source": [
    "predicted = test_nn(test_loader_nn,model)"
   ]
  },
  {
   "cell_type": "markdown",
   "metadata": {
    "id": "6UqM2RR-ENZX"
   },
   "source": [
    "Our best model from Task 1 achieved 98.39% accuracy. We will use the same model for the below FGSM attack."
   ]
  },
  {
   "cell_type": "markdown",
   "metadata": {
    "id": "DEQrdyLHsUIu"
   },
   "source": [
    "## Implementing the FGSM attack (7 Points)\n",
    "\n",
    "\n",
    "\n",
    "More details: https://arxiv.org/pdf/1412.6572.pdf\n"
   ]
  },
  {
   "cell_type": "markdown",
   "metadata": {
    "id": "3Plhw8d-EkxR"
   },
   "source": [
    "Defining Epsilons:\n",
    "We keep 0 value in the list to represent the model performance on the original test set."
   ]
  },
  {
   "cell_type": "code",
   "execution_count": 52,
   "metadata": {
    "id": "gcVZnUNbRKOz"
   },
   "outputs": [],
   "source": [
    "epsilons = [0, .05, .1, .15, .2, .25, .3]"
   ]
  },
  {
   "cell_type": "markdown",
   "metadata": {
    "id": "vXofXW9uEn7n"
   },
   "source": [
    "FGSM function:"
   ]
  },
  {
   "cell_type": "code",
   "execution_count": 26,
   "metadata": {
    "id": "UjYXSo6nEoNV"
   },
   "outputs": [],
   "source": [
    "def fgsm_attack(image, epsilon, data_grad):\n",
    "    \n",
    "    # Collect the element-wise sign of the data gradient\n",
    "    sign_data_grad = data_grad.sign()\n",
    "    \n",
    "    # Create the perturbed image\n",
    "    perturbed_image = image + epsilon*sign_data_grad\n",
    "    \n",
    "    # Maintain [0,255] range\n",
    "    perturbed_image = torch.clamp(perturbed_image, 0, 255)\n",
    "\n",
    "    return perturbed_image"
   ]
  },
  {
   "cell_type": "markdown",
   "metadata": {
    "id": "niPID9Q2Ey23"
   },
   "source": [
    "Adversarial Test function:"
   ]
  },
  {
   "cell_type": "code",
   "execution_count": 27,
   "metadata": {
    "id": "2Cy4ap8IEzMg"
   },
   "outputs": [],
   "source": [
    "def test( model, device, test_loader, epsilon ):\n",
    "\n",
    "    correct = 0\n",
    "    adv_examples = []\n",
    "    criterion = nn.CrossEntropyLoss()\n",
    "\n",
    "    for data, target in test_loader:\n",
    "\n",
    "        data, target = data.to(device), target.to(device)\n",
    "        data.requires_grad = True\n",
    "\n",
    "        # Forward pass\n",
    "        output = model(data)\n",
    "        init_pred = output.max(1, keepdim=True)[1]\n",
    "\n",
    "        # Don't attack if the initial prediction is wrong\n",
    "        if init_pred.item() != target.item():\n",
    "            continue\n",
    "\n",
    "        # Calculate the loss\n",
    "        loss = criterion(output, target)\n",
    "\n",
    "        # Zero all existing gradients\n",
    "        model.zero_grad()\n",
    "\n",
    "        # Calculate gradients of model in backward pass\n",
    "        loss.backward()\n",
    "\n",
    "        # Collect datagrad\n",
    "        data_grad = data.grad.data\n",
    "\n",
    "        # Call FGSM Attack\n",
    "        perturbed_data = fgsm_attack(data, epsilon, data_grad)\n",
    "\n",
    "        # Re-classify the perturbed image\n",
    "        output = model(perturbed_data)\n",
    "\n",
    "        # New prediction\n",
    "        final_pred = output.max(1, keepdim=True)[1]\n",
    "        if final_pred.item() == target.item():\n",
    "            correct += 1\n",
    "        adv_ex = perturbed_data.squeeze().detach().cpu().numpy()\n",
    "        adv_examples.append( (init_pred.item(), final_pred.item(), adv_ex) )\n",
    "\n",
    "    # Calculate final accuracy for this epsilon\n",
    "    final_acc = correct/float(len(test_loader))\n",
    "    print(\"Epsilon: {}\\tTest Accuracy = {} / {} = {}\".format(epsilon, correct, len(test_loader), final_acc))\n",
    "\n",
    "    return final_acc, adv_examples"
   ]
  },
  {
   "cell_type": "markdown",
   "metadata": {
    "id": "RNpI3oUoO1wE"
   },
   "source": [
    "##  Adversarial sample set\n",
    "\n"
   ]
  },
  {
   "cell_type": "markdown",
   "metadata": {
    "id": "9F-bQlxKF7rP"
   },
   "source": [
    "Calculating the test accuracies on the generated adversarial images over the different epsilon values:"
   ]
  },
  {
   "cell_type": "code",
   "execution_count": 61,
   "metadata": {
    "colab": {
     "base_uri": "https://localhost:8080/"
    },
    "id": "EvYpo9p2O1wF",
    "outputId": "a40f269d-f2f1-4f05-c744-fb5433fb8810"
   },
   "outputs": [
    {
     "name": "stdout",
     "output_type": "stream",
     "text": [
      "Epsilon: 0\tTest Accuracy = 2909 / 3000 = 0.9696666666666667\n",
      "Epsilon: 0.05\tTest Accuracy = 2768 / 3000 = 0.9226666666666666\n",
      "Epsilon: 0.1\tTest Accuracy = 2382 / 3000 = 0.794\n",
      "Epsilon: 0.15\tTest Accuracy = 1595 / 3000 = 0.5316666666666666\n",
      "Epsilon: 0.2\tTest Accuracy = 719 / 3000 = 0.23966666666666667\n",
      "Epsilon: 0.25\tTest Accuracy = 253 / 3000 = 0.08433333333333333\n",
      "Epsilon: 0.3\tTest Accuracy = 89 / 3000 = 0.029666666666666668\n"
     ]
    }
   ],
   "source": [
    "accuracies = []\n",
    "examples = []\n",
    "time_s = []\n",
    "# Run test for each epsilon\n",
    "for eps in epsilons:\n",
    "    start = time.time()\n",
    "    acc, ex = test(model, device, test_loader_nn_subset, eps)\n",
    "    stop = time.time()\n",
    "    accuracies.append(acc)\n",
    "    time_s.append(stop-start)\n",
    "    examples.append(ex)"
   ]
  },
  {
   "cell_type": "markdown",
   "metadata": {
    "id": "b0M--QesGRnB"
   },
   "source": [
    "Plotting Accuracies vs Epsilon for undefended model under FGSM attack:"
   ]
  },
  {
   "cell_type": "code",
   "execution_count": 62,
   "metadata": {
    "colab": {
     "base_uri": "https://localhost:8080/",
     "height": 350
    },
    "id": "1ZnYHW8mGR__",
    "outputId": "160f5fce-cc85-4004-f81b-5be412fd1d3e"
   },
   "outputs": [
    {
     "data": {
      "image/png": "[encoded data removed]",
      "text/plain": [
       "<Figure size 360x360 with 1 Axes>"
      ]
     },
     "metadata": {
      "needs_background": "light"
     },
     "output_type": "display_data"
    }
   ],
   "source": [
    "plt.figure(figsize=(5,5))\n",
    "plt.plot(epsilons, accuracies, \"*-\")\n",
    "plt.yticks(np.arange(0, 1.1, step=0.1))\n",
    "plt.xticks(np.arange(0, .35, step=0.05))\n",
    "plt.title(\"Accuracy vs Epsilon\")\n",
    "plt.xlabel(\"Epsilon\")\n",
    "plt.ylabel(\"Accuracy\")\n",
    "plt.show()"
   ]
  },
  {
   "cell_type": "markdown",
   "metadata": {
    "id": "Ex3qQp3JolD1"
   },
   "source": [
    "##  Visualizing the results \n"
   ]
  },
  {
   "cell_type": "code",
   "execution_count": 63,
   "metadata": {
    "colab": {
     "base_uri": "https://localhost:8080/",
     "height": 705
    },
    "id": "eGkp0B0PO1wJ",
    "outputId": "551ea36c-030b-43b1-b13d-fc4abdc8e058"
   },
   "outputs": [
    {
     "data": {
      "image/png": "[encoded data removed]",
      "text/plain": [
       "<Figure size 720x720 with 70 Axes>"
      ]
     },
     "metadata": {},
     "output_type": "display_data"
    }
   ],
   "source": [
    "cnt = 0\n",
    "plt.figure(figsize=(10,10))\n",
    "eps_ex = []\n",
    "o_ex = []\n",
    "for i in range(len(epsilons)):\n",
    "    plt_cnt = 0\n",
    "    for j in range(len(examples[i])):\n",
    "        orig,adv,ex = examples[i][j]\n",
    "        if i == 4:\n",
    "          eps_ex.append(ex)\n",
    "          o_ex.append(int(orig))\n",
    "        if (orig == plt_cnt) & (plt_cnt<10):\n",
    "          cnt += 1\n",
    "          plt.subplot(len(epsilons),10,cnt)\n",
    "          plt.xticks([], [])\n",
    "          plt.yticks([], [])\n",
    "          if plt_cnt == 0:\n",
    "              plt.ylabel(\"Eps: {}\".format(epsilons[i]), fontsize=14, color = 'b')\n",
    "          plt.title(\"B {} -> A {}\".format(orig, adv))\n",
    "          plt.imshow(ex, cmap=\"gray\")\n",
    "          plt_cnt+=1\n",
    "        elif (plt_cnt>=10):\n",
    "          break\n",
    "plt.tight_layout()\n",
    "plt.show()"
   ]
  },
  {
   "cell_type": "markdown",
   "metadata": {
    "id": "n9Dh8Rdv_XgZ"
   },
   "source": [
    "Plotting computation time of the attack for each epsilon value:"
   ]
  },
  {
   "cell_type": "code",
   "execution_count": 64,
   "metadata": {
    "colab": {
     "base_uri": "https://localhost:8080/",
     "height": 350
    },
    "id": "OXvmrVUrJU4l",
    "outputId": "cdd2a1dc-ba9f-4475-f011-944484d46f80"
   },
   "outputs": [
    {
     "data": {
      "image/png": "[encoded data removed]",
      "text/plain": [
       "<Figure size 360x360 with 1 Axes>"
      ]
     },
     "metadata": {
      "needs_background": "light"
     },
     "output_type": "display_data"
    }
   ],
   "source": [
    "plt.figure(figsize=(5,5))\n",
    "plt.plot(epsilons, time_s, \"*-\")\n",
    "# plt.yticks(np.arange(0, 1.1, step=0.1))\n",
    "# plt.xticks(np.arange(0, .35, step=0.05))\n",
    "plt.title(\"Epsilon vs Time-taken\")\n",
    "plt.xlabel(\"Epsilon\")\n",
    "plt.ylabel(\"Time-taken in seconds\")\n",
    "plt.show()"
   ]
  },
  {
   "cell_type": "markdown",
   "metadata": {
    "id": "SpL5XJv3_HNj"
   },
   "source": [
    "##  Analyzing the results\n",
    "\n",
    "\n"
   ]
  },
  {
   "cell_type": "markdown",
   "metadata": {
    "id": "6n-ayXuc_HNj"
   },
   "source": [
    "**Findings**"
   ]
  },
  {
   "cell_type": "markdown",
   "metadata": {
    "id": "OSKyYVJvPXNo"
   },
   "source": [
    "1. From the above \"*Accuracy vs Epsilon*\" graph it is evident that with increase in pertubation budget the model accuracy will decrease, but if the budget becomes too large the pertubation images become too obvious visually. That occurs because if epsilon increases it means larger steps are taken in the direction that will maximize the loss.\n",
    "\n",
    "> We can also notice that even though our epsilon values are linearly spaced, the curve is not linear. For instance, the accuracy difference between 0.15 and 0.2 seems higher than the difference between epislons 0.05 and 0.1.\n",
    "\n",
    "2. From the above \"*Epsilon vs Time-taken*\" graph, computation cost for the pertubation budgets don't vary much and is around 10 seconds.\n",
    "\n",
    "3. In this case, the FGSM attack is a white-box attack as we need knowledge and access to the model for calculating gradients of the loss w.r.t the input image. However, we could also use methods like ensembles of different models to approximate the original one without accessing it.\n",
    "\n",
    "4. With increasing pertubation budget we can see that the noise in the image is easily visible and it defeats the point of attack, which meant to be a small change in appearance of image which leads to incorrect classification."
   ]
  },
  {
   "cell_type": "markdown",
   "metadata": {
    "id": "KJUmrv5Bymij"
   },
   "source": [
    "# Defending an ML model\n",
    "\n",
    "So far, we have focused on attacking an ML model. In this section, we want you to defend your model. \n"
   ]
  },
  {
   "cell_type": "markdown",
   "metadata": {
    "id": "0gHUFK6Mymik"
   },
   "source": [
    "##  Implementing the adversarial training defense "
   ]
  },
  {
   "cell_type": "markdown",
   "metadata": {
    "id": "U-dQ-Fy9T8vt"
   },
   "source": [
    "Loading the undefended model for adversarial training:"
   ]
  },
  {
   "cell_type": "code",
   "execution_count": null,
   "metadata": {
    "colab": {
     "base_uri": "https://localhost:8080/"
    },
    "id": "aOWQbKb0T9Ep",
    "outputId": "5e822adf-be3b-47f3-cc41-d5d3c7bc9e32"
   },
   "outputs": [
    {
     "data": {
      "text/plain": [
       "<All keys matched successfully>"
      ]
     },
     "execution_count": 102,
     "metadata": {},
     "output_type": "execute_result"
    }
   ],
   "source": [
    "model_name = \"best_modelyes_after\"\n",
    "model_adv = Net(input_size, hidden_layers, num_classes, dropout).to(device)\n",
    "model_adv.load_state_dict(torch.load(str(model_name)+'.ckpt'))"
   ]
  },
  {
   "cell_type": "markdown",
   "metadata": {
    "id": "EjqqHgTgSo63"
   },
   "source": [
    "Adversarial Training function:"
   ]
  },
  {
   "cell_type": "code",
   "execution_count": 33,
   "metadata": {
    "id": "DD0UalSeymim"
   },
   "outputs": [],
   "source": [
    "def train_model_adv(dropout_s,model,learning_rate,reg,train_loader_nn,val_loader_nn,best_accuracy,num_epochs,total_train,correct_train,train_acc,val_accu_data,val_accu,learning_rate_decay,train_accu,loss_values,model_name):\n",
    "    \n",
    "    criterion = nn.CrossEntropyLoss()\n",
    "    optimizer = torch.optim.Adam(model.parameters(), lr=learning_rate, weight_decay=reg)\n",
    "    lr = learning_rate\n",
    "    total_step = len(train_loader_nn)\n",
    "    \n",
    "    for epoch in range(num_epochs):\n",
    "\n",
    "        for i, (images, labels) in enumerate(train_loader_nn):\n",
    "\n",
    "           images = images.to(device)\n",
    "           labels = labels.to(device)\n",
    "           images.requires_grad = True\n",
    "        \n",
    "           # Normal training \n",
    "\n",
    "           # Forward pass\n",
    "           outputs = model(images)\n",
    "           loss = criterion(outputs, labels)\n",
    "        \n",
    "           # Backward and optimize\n",
    "           optimizer.zero_grad()\n",
    "           loss.backward()\n",
    "           optimizer.step()\n",
    "        \n",
    "           # Adverserial training \n",
    "          \n",
    "           data_grad = images.grad.data\n",
    "           perturbed_data = fgsm_attack(images, random.choice(epsilons[1:5]), data_grad) #Randomly choosing epsilon values from 0.05 to 0.2 as suggested above in one of the papers\n",
    "           \n",
    "           # Forward pass\n",
    "           outputs = model(perturbed_data)\n",
    "           loss = criterion(outputs, labels)\n",
    "          \n",
    "           optimizer.zero_grad()\n",
    "           loss.backward()\n",
    "           optimizer.step()\n",
    "           \n",
    "           loss_ar.append(loss.item())\n",
    "\n",
    "           if (i+1) % 25 == 0:\n",
    "              print('Epoch [{}/{}], Step [{}/{}], Loss: {:.4f}'.format(epoch+1, num_epochs, i+1, total_step, loss.item()))\n",
    "              _, predicted_train = torch.max(outputs.data, 1)\n",
    "              loss_values.append(loss.item())\n",
    "              total_train += labels.size(0)\n",
    "              correct_train += (predicted_train == labels).sum().item() \n",
    "              # print(total_train,correct_train) \n",
    "\n",
    "\n",
    "        train_accu.append(100 * correct_train / total_train)\n",
    "        correct_train = 0\n",
    "        total_train = 0\n",
    "\n",
    "        # Update the learning rate\n",
    "        lr *= learning_rate_decay\n",
    "        update_lr(optimizer, lr)\n",
    "        model.eval()\n",
    "        with torch.no_grad():\n",
    "            correct = 0\n",
    "            total = 0\n",
    "            for images, labels in val_loader_nn:\n",
    "                images = images.to(device)\n",
    "                labels = labels.to(device)\n",
    "                outputs = model(images)\n",
    "                _, predicted = torch.max(outputs.data, 1)\n",
    "                total += labels.size(0)\n",
    "                correct += (predicted == labels).sum().item()\n",
    "                \n",
    "            print('Validataion accuracy is: {} %'.format(100 * correct / total))\n",
    "            val_accu_data = (100 * correct) / total\n",
    "            #print(type(val_accu))\n",
    "            val_accu.append(val_accu_data)\n",
    "             \n",
    "\n",
    "        model.train()\n",
    "\n",
    "    if(val_accu[num_epochs-1]> best_accuracy):\n",
    "        best_accuracy = val_accu[num_epochs-1]\n",
    "        torch.save(model.state_dict(),str(model_name)+'.ckpt')                         \n",
    "        print(\"best model with val acc\"+ str(val_accu[num_epochs-1])+ \"is saved\")\n",
    "    return   val_accu,val_accu[num_epochs-1],train_accu,best_accuracy,loss_values\n"
   ]
  },
  {
   "cell_type": "markdown",
   "metadata": {
    "id": "FfR6Oo8TTJc-"
   },
   "source": [
    "Adversarial training procedure:"
   ]
  },
  {
   "cell_type": "code",
   "execution_count": 34,
   "metadata": {
    "colab": {
     "base_uri": "https://localhost:8080/"
    },
    "id": "cOmLcPSDTJv-",
    "outputId": "154af27a-8e26-4c38-e7ca-fcac0098632d"
   },
   "outputs": [
    {
     "name": "stdout",
     "output_type": "stream",
     "text": [
      "Epoch [1/10], Step [25/25], Loss: 0.9417\n",
      "Validataion accuracy is: 95.68 %\n",
      "Epoch [2/10], Step [25/25], Loss: 0.3563\n",
      "Validataion accuracy is: 97.91 %\n",
      "Epoch [3/10], Step [25/25], Loss: 0.2794\n",
      "Validataion accuracy is: 98.26 %\n",
      "Epoch [4/10], Step [25/25], Loss: 0.4119\n",
      "Validataion accuracy is: 98.52 %\n",
      "Epoch [5/10], Step [25/25], Loss: 0.4047\n",
      "Validataion accuracy is: 98.35 %\n",
      "Epoch [6/10], Step [25/25], Loss: 0.1716\n",
      "Validataion accuracy is: 98.72 %\n",
      "Epoch [7/10], Step [25/25], Loss: 0.1791\n",
      "Validataion accuracy is: 98.76 %\n",
      "Epoch [8/10], Step [25/25], Loss: 0.4308\n",
      "Validataion accuracy is: 98.85 %\n",
      "Epoch [9/10], Step [25/25], Loss: 0.1440\n",
      "Validataion accuracy is: 98.96 %\n",
      "Epoch [10/10], Step [25/25], Loss: 0.2773\n",
      "Validataion accuracy is: 98.98 %\n",
      "best model with val acc98.98is saved\n"
     ]
    }
   ],
   "source": [
    "dropout_s = 'yes'\n",
    "model_name = \"model_adv\"\n",
    "val_acc_list,val_accu,train_accu, best, loss_history = train_model_adv(dropout_s,model_adv,learning_rate,reg,train_loader_nn,val_loader_nn,best_accuracy,num_epochs,total_train,correct_train,train_accu,val_accu_data,val_accu,learning_rate_decay,train_accu,loss_values,model_name)\n",
    "\n"
   ]
  },
  {
   "cell_type": "markdown",
   "metadata": {
    "id": "4NQmjSb2TjIe"
   },
   "source": [
    "Testing of clean images on defended model:"
   ]
  },
  {
   "cell_type": "code",
   "execution_count": 35,
   "metadata": {
    "colab": {
     "base_uri": "https://localhost:8080/"
    },
    "id": "SsJweGEUTjo5",
    "outputId": "a2ac8421-19fe-4cc3-83c9-43014e8d31d2"
   },
   "outputs": [
    {
     "name": "stdout",
     "output_type": "stream",
     "text": [
      "Accuracy of the network on the 10000 test images: 98.76 %\n"
     ]
    }
   ],
   "source": [
    "predicted = test_nn(test_loader_nn,model_adv)"
   ]
  },
  {
   "cell_type": "markdown",
   "metadata": {
    "id": "EQ-kqxKU_HNk"
   },
   "source": [
    "##  Evaluation "
   ]
  },
  {
   "cell_type": "markdown",
   "metadata": {
    "id": "vGo6YUUIUbwZ"
   },
   "source": [
    "During the adversarial training we use random values of epsilons among 0.05 and 0.2. For testing the defended model on adversarial images we use 0.15 as **lower budget** and 0.3 as **higher budget**:"
   ]
  },
  {
   "cell_type": "code",
   "execution_count": 36,
   "metadata": {
    "colab": {
     "base_uri": "https://localhost:8080/"
    },
    "id": "bIqpZzVFUcJn",
    "outputId": "01eda7ae-57a2-47d6-d8fa-31da978bbbb6"
   },
   "outputs": [
    {
     "name": "stdout",
     "output_type": "stream",
     "text": [
      "Epsilon: 0.15\tTest Accuracy = 2662 / 3000 = 0.8873333333333333\n",
      "Epsilon: 0.3\tTest Accuracy = 1467 / 3000 = 0.489\n"
     ]
    }
   ],
   "source": [
    "accuracies_adv = []\n",
    "examples = []\n",
    "\n",
    "# Run test for each epsilon\n",
    "for eps in [0.15,0.3]:\n",
    "    acc, ex = test(model_adv, device, test_loader_nn_subset, eps)\n",
    "    accuracies_adv.append(acc)\n",
    "    examples.append(ex)"
   ]
  },
  {
   "cell_type": "markdown",
   "metadata": {
    "id": "VR7Adw9Cbq_Z"
   },
   "source": [
    "Comparing accuracies of undefended model and defended model for pertubation budget of 0.15 and 0.3:"
   ]
  },
  {
   "cell_type": "code",
   "execution_count": 37,
   "metadata": {
    "colab": {
     "base_uri": "https://localhost:8080/"
    },
    "id": "ZFUnmISM_HNl",
    "outputId": "f72ebba5-fea4-49d5-85e7-5c191c342800"
   },
   "outputs": [
    {
     "name": "stdout",
     "output_type": "stream",
     "text": [
      "Accuracy on the lower-budget(epsilon = 0.15) adversarial samples (FGSM) 0.537\n",
      "Accuracy on the lower-budget (epsilon = 0.15) adversarial samples (FGSM) after defense 0.887\n",
      "Accuracy on the higher-budget (epsilon = 0.30) adversarial samples (FGSM) 0.036\n",
      "Accuracy on the higher-budget (epsilon = 0.30) adversarial samples (FGSM) after defense 0.489\n"
     ]
    }
   ],
   "source": [
    "\n",
    "print('Accuracy on the lower-budget(epsilon = 0.15) adversarial samples (FGSM) %.3f'%accuracies[3])\n",
    "print('Accuracy on the lower-budget (epsilon = 0.15) adversarial samples (FGSM) after defense %.3f'%accuracies_adv[0])\n",
    "\n",
    "print('Accuracy on the higher-budget (epsilon = 0.30) adversarial samples (FGSM) %.3f'%accuracies[6])\n",
    "print('Accuracy on the higher-budget (epsilon = 0.30) adversarial samples (FGSM) after defense %.3f'%accuracies_adv[1])"
   ]
  },
  {
   "cell_type": "markdown",
   "metadata": {
    "id": "F_suTMWP_HNl"
   },
   "source": [
    "**Findings**"
   ]
  },
  {
   "cell_type": "markdown",
   "metadata": {
    "id": "pGnMWcl5cJNe"
   },
   "source": [
    "> We can notice the defense against the attack was succesfull for both the pertubation budgets, as the accuracy after defense is higher in both cases. The difference is due to the adversarial training.\n",
    "\n",
    "> For lower pertubation compared to the pertubation budget used in the training the accuracy was nearer to the accuracy of clean data, where as for the higher pertubation budget compared to the pertubation budget used in the training the accuracy is still far away from the accuracy of clean data.\n",
    "\n",
    "> It is expected that for the higher budget the accuracy in low even after the defense, as we already mentioned, larger epsilons mean we take a larger step in the direction that will maximize the loss.  \n",
    "\n",
    "> For the adversarial images generated with the pertubation budget 0.15, one cannot perceive the noise in the images. On the other hand, for the images generated with the budget 0.3, the perturbation becomes evident. Refer to section 1.4: Visualizing the results to check the difference.\n",
    "\n"
   ]
  },
  {
   "cell_type": "markdown",
   "metadata": {
    "id": "uAFqcEfX_HNl"
   },
   "source": [
    "# I-FGSM attack  \n",
    "\n",
    "* FGSM is one of the simplest and earliest attacks. Since then, many more advanced attacks have been proposed. \n",
    "* One of them is the Iterative-FGSM (https://arxiv.org/pdf/1607.02533.pdf), where the attack is repeated multiple times.\n",
    "* In this part, we ask you to please implement the iterative FGSM attack. \n",
    "\n"
   ]
  },
  {
   "cell_type": "markdown",
   "metadata": {
    "id": "Bb4P8Hms_HNl"
   },
   "source": [
    "##  Implementing the I-FGSM attack \n"
   ]
  },
  {
   "cell_type": "markdown",
   "metadata": {
    "id": "wkv2QUrGfcBZ"
   },
   "source": [
    "Implementing the I-FGSM function"
   ]
  },
  {
   "cell_type": "code",
   "execution_count": 38,
   "metadata": {
    "id": "zcbaVawF_HNm"
   },
   "outputs": [],
   "source": [
    "def i_fgsm_attack(model,criterion,image,target, epsilon,alpha):\n",
    "    # iterations = int(min(epsilon + 4, 1.25*epsilon))\n",
    "    iterations = 10\n",
    "    for i in range(iterations):\n",
    "      image.requires_grad = True\n",
    "      outputs = model(image)\n",
    "\n",
    "      model.zero_grad()\n",
    "      cost = criterion(outputs, target).to(device)\n",
    "      cost.backward()\n",
    "\n",
    "      # Collect the element-wise sign of the data gradient\n",
    "     \n",
    "      # Create the perturbed image by adjusting each pixel of the input image\n",
    "      perturbed_image = image + alpha*image.grad.sign()\n",
    "\n",
    "      # Adding clipping to maintain [0,255] range\n",
    "      # a = max{0, X-eps}\n",
    "      a = torch.clamp(image - epsilon, min=0)\n",
    "      \n",
    "      # b = max{a, X'}\n",
    "      b = (perturbed_image>=a).float()*perturbed_image + (a>perturbed_image).float()*a\n",
    "      \n",
    "      # c = min{X+eps, b}\n",
    "      c = (b > image+epsilon).float()*(image+epsilon) + (image+epsilon >= b).float()*b\n",
    "      \n",
    "      # d = min{255, c}\n",
    "      perturbed_image = torch.clamp(c, max=255).detach_()\n",
    "      image = perturbed_image\n",
    "  \n",
    "    return image"
   ]
  },
  {
   "cell_type": "markdown",
   "metadata": {
    "id": "ALlsA6RR_HNm"
   },
   "source": [
    "##  Attack the undefended model \n",
    "\n",
    "* We will first attack the **undefended model** (i.e., without adversarial training).\n",
    "\n",
    "* Choose one perturbation budget from Question **1.3** for comparison. \n",
    "\n",
    "    * Hint: A simple way to choose the small step is to divide the total budget by the number of steps (e.g., 10).\n",
    "\n",
    "* Please generate 1000 adversarial examples using the **undefended** model and the **I-FGSM** you implemented. \n",
    "\n",
    "* Please compute the accuracy of the adversarial set on the **undefended** model. "
   ]
  },
  {
   "cell_type": "markdown",
   "metadata": {
    "id": "ODk6eDMufkOn"
   },
   "source": [
    "Test function for I-FGSM attack:"
   ]
  },
  {
   "cell_type": "code",
   "execution_count": 75,
   "metadata": {
    "id": "xLkTHfsh_HNm"
   },
   "outputs": [],
   "source": [
    "def test_i_fgsm( model, device, test_loader, epsilon ):\n",
    "    criterion = nn.CrossEntropyLoss()\n",
    "    # Accuracy counter\n",
    "    correct = 0\n",
    "    adv_examples = []\n",
    "\n",
    "    # Loop over all examples in test set\n",
    "    for data, target in test_loader:\n",
    "\n",
    "        # Send the data and label to the device\n",
    "        data, target = data.to(device), target.to(device)\n",
    "\n",
    "        # Set requires_grad attribute of tensor. Important for Attack\n",
    "        data.requires_grad = True\n",
    "\n",
    "        # Forward pass the data through the model\n",
    "        output = model(data)\n",
    "        init_pred = output.max(1, keepdim=True)[1]\n",
    "\n",
    "        # Don't attack if the initial prediction is wrong\n",
    "        if init_pred.item() != target.item():\n",
    "            continue\n",
    "\n",
    "        # I-FGSM Attack\n",
    "        alpha= 0.015\n",
    "        perturbed_data = i_fgsm_attack(model,criterion,data,target, epsilon,alpha)\n",
    "\n",
    "        # Re-classify the perturbed image\n",
    "        output = model(perturbed_data)\n",
    "\n",
    "        # Check for success\n",
    "        final_pred = output.max(1, keepdim=True)[1]\n",
    "        if final_pred.item() == target.item():\n",
    "            correct += 1\n",
    "            \n",
    "        adv_ex = perturbed_data.squeeze().detach().cpu().numpy()\n",
    "        adv_examples.append( (init_pred.item(), final_pred.item(), adv_ex) )\n",
    "\n",
    "    # Calculate final accuracy for this epsilon\n",
    "    final_acc = correct/float(len(test_loader))\n",
    "    print(\"Epsilon: {}\\tTest Accuracy = {} / {} = {}\".format(epsilon, correct, len(test_loader), final_acc))\n",
    "\n",
    "    # Return the accuracy and an adversarial example\n",
    "    return final_acc, adv_examples\n"
   ]
  },
  {
   "cell_type": "markdown",
   "metadata": {
    "id": "74vjeBW3tldV"
   },
   "source": [
    "Loading the undefended model:"
   ]
  },
  {
   "cell_type": "code",
   "execution_count": 72,
   "metadata": {
    "colab": {
     "base_uri": "https://localhost:8080/"
    },
    "id": "1PvlspPMtl2S",
    "outputId": "bba50ce2-33eb-4b6f-df7f-c79d7c95aaf4"
   },
   "outputs": [
    {
     "data": {
      "text/plain": [
       "<All keys matched successfully>"
      ]
     },
     "execution_count": 72,
     "metadata": {},
     "output_type": "execute_result"
    }
   ],
   "source": [
    "model_name = \"best_modelyes_after\"\n",
    "model = Net(input_size, hidden_layers, num_classes, dropout).to(device)\n",
    "model.load_state_dict(torch.load(str(model_name)+'.ckpt'))"
   ]
  },
  {
   "cell_type": "markdown",
   "metadata": {
    "id": "0GJdi8qwt0Lj"
   },
   "source": [
    "Testing accuracies for the undefended model on adversarial images generated using I-FGSM:"
   ]
  },
  {
   "cell_type": "code",
   "execution_count": 76,
   "metadata": {
    "colab": {
     "base_uri": "https://localhost:8080/"
    },
    "id": "AqWa-qqmt0ef",
    "outputId": "23bf69dc-49e1-4afa-ad79-70bcdaf28c75"
   },
   "outputs": [
    {
     "name": "stdout",
     "output_type": "stream",
     "text": [
      "Epsilon: 0\tTest Accuracy = 2907 / 3000 = 0.969\n",
      "Epsilon: 0.05\tTest Accuracy = 1414 / 3000 = 0.4713333333333333\n",
      "Epsilon: 0.1\tTest Accuracy = 1414 / 3000 = 0.4713333333333333\n",
      "Epsilon: 0.15\tTest Accuracy = 1439 / 3000 = 0.4796666666666667\n",
      "Epsilon: 0.2\tTest Accuracy = 1431 / 3000 = 0.477\n",
      "Epsilon: 0.25\tTest Accuracy = 1395 / 3000 = 0.465\n",
      "Epsilon: 0.3\tTest Accuracy = 1426 / 3000 = 0.47533333333333333\n"
     ]
    }
   ],
   "source": [
    "accuracies_i = []\n",
    "examples_i = []\n",
    "time_i = []\n",
    "# Run test for each epsilon\n",
    "for eps in epsilons:\n",
    "    start = time.time()\n",
    "    acc, ex = test_i_fgsm(model, device, test_loader_nn_subset, eps)\n",
    "    stop = time.time()\n",
    "    time_i.append(stop-start)\n",
    "    accuracies_i.append(acc)\n",
    "    examples_i.append(ex)"
   ]
  },
  {
   "cell_type": "markdown",
   "metadata": {
    "id": "p3mdXwYitAok"
   },
   "source": [
    "Plot class adversarial samples at each epsilon value and the predicted label before (B) and after (A) the iterative attack:"
   ]
  },
  {
   "cell_type": "code",
   "execution_count": 77,
   "metadata": {
    "colab": {
     "base_uri": "https://localhost:8080/",
     "height": 705
    },
    "id": "4P7HybyIiRM_",
    "outputId": "671974bb-bba9-4085-b508-24fa200a93a9"
   },
   "outputs": [
    {
     "data": {
      "image/png": "[encoded data removed]",
      "text/plain": [
       "<Figure size 720x720 with 70 Axes>"
      ]
     },
     "metadata": {},
     "output_type": "display_data"
    }
   ],
   "source": [
    "cnt = 0\n",
    "plt.figure(figsize=(10,10))\n",
    "eps_ex = []\n",
    "o_ex = []\n",
    "for i in range(len(epsilons)):\n",
    "    plt_cnt = 0\n",
    "    for j in range(len(examples_i[i])):\n",
    "        orig,adv,ex = examples_i[i][j]\n",
    "        if i == 4:\n",
    "          eps_ex.append(ex)\n",
    "          o_ex.append(int(orig))\n",
    "        if (orig == plt_cnt) & (plt_cnt<10):\n",
    "          cnt += 1\n",
    "          plt.subplot(len(epsilons),10,cnt)\n",
    "          plt.xticks([], [])\n",
    "          plt.yticks([], [])\n",
    "          if plt_cnt == 0:\n",
    "              plt.ylabel(\"Eps: {}\".format(epsilons[i]), fontsize=14, color = 'b')\n",
    "          plt.title(\"B {} -> A {}\".format(orig, adv))\n",
    "          plt.imshow(ex, cmap=\"gray\")\n",
    "          plt_cnt+=1\n",
    "        elif (plt_cnt>=10):\n",
    "          break\n",
    "plt.tight_layout()\n",
    "plt.show()"
   ]
  },
  {
   "cell_type": "markdown",
   "metadata": {
    "id": "leOg_llD_HNm"
   },
   "source": [
    "### Findings and comparison with FGSM "
   ]
  },
  {
   "cell_type": "markdown",
   "metadata": {
    "id": "ctJ-znyI_HNm"
   },
   "source": [
    "**Findings**"
   ]
  },
  {
   "cell_type": "markdown",
   "metadata": {
    "id": "CazdqmIm0lpP"
   },
   "source": [
    "> The attack was successfull for lower values of epsilon, however, as we increase epsilon, it is unable to improve and remains same.\n",
    "\n",
    "> We can notice that I-FGSM generates finer perturbations which do not destroy the image even with higher epsilon values (See 1.4: Visualizing the results).\n",
    "\n",
    "> When we increase the number of steps, the accuracy of the model against the attack decreases drastically even for lower epsilon values and remains saturated until higher values.\n",
    "\n",
    "**For 10 steps:**\n",
    "\n",
    "Epsilon   | Test Accuracy \n",
    "----------|------------------\n",
    "0         | 0.969 \n",
    "0.05      | 0.4713333333333333\n",
    "0.1       | 0.4713333333333333 \n",
    "0.15      | 0.4796666666666667 \n",
    "0.2       | 0.477 \n",
    "0.25      | 0.465 \n",
    "0.3       | 0.47533333333333333  \n",
    " \n",
    "**For 20 steps:**\n",
    "\n",
    "Epsilon   | Test Accuracy \n",
    "----------|------------------\n",
    "0         | 0.9673333333333334 \n",
    "0.05      | 0.002\n",
    "0.1       | 0.004 \n",
    "0.15      | 0.0036666666666666666 \n",
    "0.2       | 0.0036666666666666666 \n",
    "0.25      | 0.004  \n",
    "0.3       | 0.004333333333333333  \n",
    "\n",
    "> We tried different alpha values and we found that increasing it represent a greater distortion in the image, which leads to decrease the accuracy drastically, for instance, for alpha 0.1 we get 0 accuracy even for the smalles epsilon value. We took alpha value as 0.015, considering our epsilon values by the number of iterations.\n",
    "\n",
    "\n",
    "> As we can see in the below figure, while comparing to the different attacks, I-FGSM performs better for lower epsilon values, whereas as epsilon increases, it does not have much effect on attack efficiency. On the other hand, FGSM performs better with higher epsilon values.\n",
    "\n",
    "> As it is expected, computation time for I-FGSM is greater than that of the FGSM, since there are iterations involved in it. The same behaviour is plotted below, in our case, with 10 iterations, I-FGSM takes around seven times more than computation of FGSM."
   ]
  },
  {
   "cell_type": "code",
   "execution_count": 78,
   "metadata": {
    "colab": {
     "base_uri": "https://localhost:8080/",
     "height": 683
    },
    "id": "90NMZYnDFCeq",
    "outputId": "a4072968-6534-4fea-e63d-5895f0d0a643"
   },
   "outputs": [
    {
     "data": {
      "image/png": "[encoded data removed]",
      "text/plain": [
       "<Figure size 360x360 with 1 Axes>"
      ]
     },
     "metadata": {
      "needs_background": "light"
     },
     "output_type": "display_data"
    },
    {
     "data": {
      "image/png": "[encoded data removed]",
      "text/plain": [
       "<Figure size 360x360 with 1 Axes>"
      ]
     },
     "metadata": {
      "needs_background": "light"
     },
     "output_type": "display_data"
    }
   ],
   "source": [
    "plt.figure(figsize=(5,5))\n",
    "plt.plot(epsilons, accuracies, \"*-\",label = \"FSGM\")\n",
    "plt.plot(epsilons,accuracies_i,\"--\",label = \"I-FGSM\")\n",
    "plt.title(\"Accuracy vs Epsilon\")\n",
    "plt.xlabel(\"Epsilon\")\n",
    "plt.ylabel(\"Accuracy\")\n",
    "plt.legend()\n",
    "plt.show()\n",
    "\n",
    "\n",
    "plt.figure(figsize=(5,5))\n",
    "plt.plot(epsilons, time_s, \"*-\",label = \"FGSM\")\n",
    "plt.plot(epsilons, time_i, \"--\", label = \"I-FGSM\")\n",
    "plt.title(\" Epsilon vs Time-taken\")\n",
    "plt.xlabel(\"Epsilon\")\n",
    "plt.ylabel(\"Time-taken in seconds\")\n",
    "plt.legend()\n",
    "plt.show()"
   ]
  },
  {
   "cell_type": "markdown",
   "metadata": {
    "id": "Cje-BcsC_HNn"
   },
   "source": [
    "## Attack the defended model\n"
   ]
  },
  {
   "cell_type": "markdown",
   "metadata": {
    "id": "Zx-3v6fgu11x"
   },
   "source": [
    "Loading the defended model which we got from FGSM adversarial training:"
   ]
  },
  {
   "cell_type": "code",
   "execution_count": 79,
   "metadata": {
    "colab": {
     "base_uri": "https://localhost:8080/"
    },
    "id": "gIWsGDLf_HNn",
    "outputId": "1fc7ab04-f44e-4cfe-b564-462090f1c046"
   },
   "outputs": [
    {
     "data": {
      "text/plain": [
       "<All keys matched successfully>"
      ]
     },
     "execution_count": 79,
     "metadata": {},
     "output_type": "execute_result"
    }
   ],
   "source": [
    "model_name = \"model_adv\"\n",
    "model_adv = Net(input_size, hidden_layers, num_classes, dropout).to(device)\n",
    "model_adv.load_state_dict(torch.load(str(model_name)+'.ckpt'))"
   ]
  },
  {
   "cell_type": "code",
   "execution_count": 44,
   "metadata": {
    "colab": {
     "base_uri": "https://localhost:8080/"
    },
    "id": "5-BuHUdJvER1",
    "outputId": "accf306e-151f-4248-a000-64821c05613e"
   },
   "outputs": [
    {
     "name": "stdout",
     "output_type": "stream",
     "text": [
      "Epsilon: 0.15\tTest Accuracy = 2556 / 3000 = 0.852\n",
      "Epsilon: 0.3\tTest Accuracy = 2567 / 3000 = 0.8556666666666667\n"
     ]
    }
   ],
   "source": [
    "accuracies_adv_i = []\n",
    "examples_adv_i = []\n",
    "\n",
    "# Run test for each epsilon\n",
    "for eps in [0.15,0.3]:\n",
    "    acc, ex = test_i_fgsm(model_adv, device, test_loader_nn_subset, eps)\n",
    "    accuracies_adv_i.append(acc)\n",
    "    examples_adv_i.append(ex)"
   ]
  },
  {
   "cell_type": "markdown",
   "metadata": {
    "id": "gGXKF6rG_HNo"
   },
   "source": [
    "**Results**"
   ]
  },
  {
   "cell_type": "markdown",
   "metadata": {
    "id": "TIh4oZPDHOME"
   },
   "source": [
    "The attack was not effective against the defended model. \n",
    "\n",
    "I-FGSM attack works better for lower epsilon values when compared to FGSM whereas when the epsilon value increases the FGSM performs better.\n",
    "\n",
    "To improve the defence against I-FGSM, the model should have adversarial training with I-FGSM, generated adversarial images of lower epsilon values whereas for higher values of epsilon we should use FGSM generated adversarial images for adversarial training.\n",
    "\n",
    "As we can see below that, even if the accuracy of model is less, the images generated from I-FGSM attack has less noise and hardly can be distinguished from clean data which is the original intension of the attack."
   ]
  },
  {
   "cell_type": "code",
   "execution_count": 49,
   "metadata": {
    "colab": {
     "base_uri": "https://localhost:8080/",
     "height": 198
    },
    "id": "XAbdkWj0KEYj",
    "outputId": "bf219922-7495-4685-99e2-23b8ee0de7ce"
   },
   "outputs": [
    {
     "data": {
      "image/png": "[encoded data removed]",
      "text/plain": [
       "<Figure size 720x216 with 20 Axes>"
      ]
     },
     "metadata": {},
     "output_type": "display_data"
    }
   ],
   "source": [
    "epsilons = [0.15,0.3]\n",
    "cnt = 0\n",
    "\n",
    "eps_ex = []\n",
    "o_ex = []\n",
    "plt.figure(figsize=(10,3))\n",
    "for i in range(len(epsilons)):\n",
    "    plt_cnt = 0\n",
    "    for j in range(len(examples_adv_i[i])):\n",
    "        orig,adv,ex = examples_adv_i[i][j]\n",
    "        if i == 4:\n",
    "          eps_ex.append(ex)\n",
    "          o_ex.append(int(orig))\n",
    "        if (orig == plt_cnt) & (plt_cnt<10):\n",
    "          cnt += 1\n",
    "          plt.subplot(len(epsilons),10,cnt)\n",
    "          plt.xticks([], [])\n",
    "          plt.yticks([], [])\n",
    "          if plt_cnt == 0:\n",
    "              plt.ylabel(\"Eps: {}\".format(epsilons[i]), fontsize=14, color = 'b')\n",
    "          plt.title(\"B {} -> A {}\".format(orig, adv))\n",
    "          plt.imshow(ex, cmap=\"gray\")\n",
    "          plt_cnt+=1\n",
    "        elif (plt_cnt>=10):\n",
    "          break\n",
    "plt.tight_layout()\n",
    "plt.show()"
   ]
  }
 ],
 "metadata": {
  "accelerator": "GPU",
  "colab": {
   "collapsed_sections": [],
   "name": "2021_11_12_Task_02_final.ipynb",
   "provenance": []
  },
  "kernelspec": {
   "display_name": "Python 3",
   "language": "python",
   "name": "python3"
  },
  "language_info": {
   "codemirror_mode": {
    "name": "ipython",
    "version": 3
   },
   "file_extension": ".py",
   "mimetype": "text/x-python",
   "name": "python",
   "nbconvert_exporter": "python",
   "pygments_lexer": "ipython3",
   "version": "3.8.5"
  },
  "widgets": {
   "application/vnd.jupyter.widget-state+json": {
    "0004dbbc8a5944efb136572bf5903eb8": {
     "model_module": "@jupyter-widgets/base",
     "model_module_version": "1.2.0",
     "model_name": "LayoutModel",
     "state": {
      "_model_module": "@jupyter-widgets/base",
      "_model_module_version": "1.2.0",
      "_model_name": "LayoutModel",
      "_view_count": null,
      "_view_module": "@jupyter-widgets/base",
      "_view_module_version": "1.2.0",
      "_view_name": "LayoutView",
      "align_content": null,
      "align_items": null,
      "align_self": null,
      "border": null,
      "bottom": null,
      "display": null,
      "flex": null,
      "flex_flow": null,
      "grid_area": null,
      "grid_auto_columns": null,
      "grid_auto_flow": null,
      "grid_auto_rows": null,
      "grid_column": null,
      "grid_gap": null,
      "grid_row": null,
      "grid_template_areas": null,
      "grid_template_columns": null,
      "grid_template_rows": null,
      "height": null,
      "justify_content": null,
      "justify_items": null,
      "left": null,
      "margin": null,
      "max_height": null,
      "max_width": null,
      "min_height": null,
      "min_width": null,
      "object_fit": null,
      "object_position": null,
      "order": null,
      "overflow": null,
      "overflow_x": null,
      "overflow_y": null,
      "padding": null,
      "right": null,
      "top": null,
      "visibility": null,
      "width": null
     }
    },
    "021f0dc5f77c4d6280a79018d5c635d9": {
     "model_module": "@jupyter-widgets/controls",
     "model_module_version": "1.5.0",
     "model_name": "DescriptionStyleModel",
     "state": {
      "_model_module": "@jupyter-widgets/controls",
      "_model_module_version": "1.5.0",
      "_model_name": "DescriptionStyleModel",
      "_view_count": null,
      "_view_module": "@jupyter-widgets/base",
      "_view_module_version": "1.2.0",
      "_view_name": "StyleView",
      "description_width": ""
     }
    },
    "0b76aea01dbb4333a732c9d38319978a": {
     "model_module": "@jupyter-widgets/controls",
     "model_module_version": "1.5.0",
     "model_name": "HTMLModel",
     "state": {
      "_dom_classes": [],
      "_model_module": "@jupyter-widgets/controls",
      "_model_module_version": "1.5.0",
      "_model_name": "HTMLModel",
      "_view_count": null,
      "_view_module": "@jupyter-widgets/controls",
      "_view_module_version": "1.5.0",
      "_view_name": "HTMLView",
      "description": "",
      "description_tooltip": null,
      "layout": "IPY_MODEL_39f38f9315fa429eb7c5f8d1247f3265",
      "placeholder": "​",
      "style": "IPY_MODEL_54cfef52eb394cfc85382f2b2304dd59",
      "value": " 5120/? [00:00&lt;00:00, 153551.82it/s]"
     }
    },
    "0d9c70295dea474198e4e063c370fb25": {
     "model_module": "@jupyter-widgets/base",
     "model_module_version": "1.2.0",
     "model_name": "LayoutModel",
     "state": {
      "_model_module": "@jupyter-widgets/base",
      "_model_module_version": "1.2.0",
      "_model_name": "LayoutModel",
      "_view_count": null,
      "_view_module": "@jupyter-widgets/base",
      "_view_module_version": "1.2.0",
      "_view_name": "LayoutView",
      "align_content": null,
      "align_items": null,
      "align_self": null,
      "border": null,
      "bottom": null,
      "display": null,
      "flex": null,
      "flex_flow": null,
      "grid_area": null,
      "grid_auto_columns": null,
      "grid_auto_flow": null,
      "grid_auto_rows": null,
      "grid_column": null,
      "grid_gap": null,
      "grid_row": null,
      "grid_template_areas": null,
      "grid_template_columns": null,
      "grid_template_rows": null,
      "height": null,
      "justify_content": null,
      "justify_items": null,
      "left": null,
      "margin": null,
      "max_height": null,
      "max_width": null,
      "min_height": null,
      "min_width": null,
      "object_fit": null,
      "object_position": null,
      "order": null,
      "overflow": null,
      "overflow_x": null,
      "overflow_y": null,
      "padding": null,
      "right": null,
      "top": null,
      "visibility": null,
      "width": null
     }
    },
    "14dfb6e86d42462b805141567e5a5b13": {
     "model_module": "@jupyter-widgets/controls",
     "model_module_version": "1.5.0",
     "model_name": "DescriptionStyleModel",
     "state": {
      "_model_module": "@jupyter-widgets/controls",
      "_model_module_version": "1.5.0",
      "_model_name": "DescriptionStyleModel",
      "_view_count": null,
      "_view_module": "@jupyter-widgets/base",
      "_view_module_version": "1.2.0",
      "_view_name": "StyleView",
      "description_width": ""
     }
    },
    "18c73292dae54044b07f32d3f7f75db7": {
     "model_module": "@jupyter-widgets/controls",
     "model_module_version": "1.5.0",
     "model_name": "ProgressStyleModel",
     "state": {
      "_model_module": "@jupyter-widgets/controls",
      "_model_module_version": "1.5.0",
      "_model_name": "ProgressStyleModel",
      "_view_count": null,
      "_view_module": "@jupyter-widgets/base",
      "_view_module_version": "1.2.0",
      "_view_name": "StyleView",
      "bar_color": null,
      "description_width": ""
     }
    },
    "1978bbcd003c466da2faacdcd75107bb": {
     "model_module": "@jupyter-widgets/controls",
     "model_module_version": "1.5.0",
     "model_name": "FloatProgressModel",
     "state": {
      "_dom_classes": [],
      "_model_module": "@jupyter-widgets/controls",
      "_model_module_version": "1.5.0",
      "_model_name": "FloatProgressModel",
      "_view_count": null,
      "_view_module": "@jupyter-widgets/controls",
      "_view_module_version": "1.5.0",
      "_view_name": "ProgressView",
      "bar_style": "success",
      "description": "",
      "description_tooltip": null,
      "layout": "IPY_MODEL_3d7673a0f1d04418bb6f019256f41f2e",
      "max": 28881,
      "min": 0,
      "orientation": "horizontal",
      "style": "IPY_MODEL_b77d88208fab40f9be66f1b78ca9db5c",
      "value": 28881
     }
    },
    "275e804e4e3445308524fd5542fd6855": {
     "model_module": "@jupyter-widgets/controls",
     "model_module_version": "1.5.0",
     "model_name": "FloatProgressModel",
     "state": {
      "_dom_classes": [],
      "_model_module": "@jupyter-widgets/controls",
      "_model_module_version": "1.5.0",
      "_model_name": "FloatProgressModel",
      "_view_count": null,
      "_view_module": "@jupyter-widgets/controls",
      "_view_module_version": "1.5.0",
      "_view_name": "ProgressView",
      "bar_style": "success",
      "description": "",
      "description_tooltip": null,
      "layout": "IPY_MODEL_545f9dc01bac44ef994ce12319ff5c90",
      "max": 9912422,
      "min": 0,
      "orientation": "horizontal",
      "style": "IPY_MODEL_18c73292dae54044b07f32d3f7f75db7",
      "value": 9912422
     }
    },
    "2def8db90cc04f8a8b8be03c7c930438": {
     "model_module": "@jupyter-widgets/controls",
     "model_module_version": "1.5.0",
     "model_name": "HBoxModel",
     "state": {
      "_dom_classes": [],
      "_model_module": "@jupyter-widgets/controls",
      "_model_module_version": "1.5.0",
      "_model_name": "HBoxModel",
      "_view_count": null,
      "_view_module": "@jupyter-widgets/controls",
      "_view_module_version": "1.5.0",
      "_view_name": "HBoxView",
      "box_style": "",
      "children": [
       "IPY_MODEL_7dad88b878de4300b88524b75ef21a74",
       "IPY_MODEL_1978bbcd003c466da2faacdcd75107bb",
       "IPY_MODEL_a0c5072c0df84f568d1fe3340f87baf3"
      ],
      "layout": "IPY_MODEL_0d9c70295dea474198e4e063c370fb25"
     }
    },
    "39f38f9315fa429eb7c5f8d1247f3265": {
     "model_module": "@jupyter-widgets/base",
     "model_module_version": "1.2.0",
     "model_name": "LayoutModel",
     "state": {
      "_model_module": "@jupyter-widgets/base",
      "_model_module_version": "1.2.0",
      "_model_name": "LayoutModel",
      "_view_count": null,
      "_view_module": "@jupyter-widgets/base",
      "_view_module_version": "1.2.0",
      "_view_name": "LayoutView",
      "align_content": null,
      "align_items": null,
      "align_self": null,
      "border": null,
      "bottom": null,
      "display": null,
      "flex": null,
      "flex_flow": null,
      "grid_area": null,
      "grid_auto_columns": null,
      "grid_auto_flow": null,
      "grid_auto_rows": null,
      "grid_column": null,
      "grid_gap": null,
      "grid_row": null,
      "grid_template_areas": null,
      "grid_template_columns": null,
      "grid_template_rows": null,
      "height": null,
      "justify_content": null,
      "justify_items": null,
      "left": null,
      "margin": null,
      "max_height": null,
      "max_width": null,
      "min_height": null,
      "min_width": null,
      "object_fit": null,
      "object_position": null,
      "order": null,
      "overflow": null,
      "overflow_x": null,
      "overflow_y": null,
      "padding": null,
      "right": null,
      "top": null,
      "visibility": null,
      "width": null
     }
    },
    "3d066fd0a90f4ff1ae905a9946a9cc8b": {
     "model_module": "@jupyter-widgets/controls",
     "model_module_version": "1.5.0",
     "model_name": "HTMLModel",
     "state": {
      "_dom_classes": [],
      "_model_module": "@jupyter-widgets/controls",
      "_model_module_version": "1.5.0",
      "_model_name": "HTMLModel",
      "_view_count": null,
      "_view_module": "@jupyter-widgets/controls",
      "_view_module_version": "1.5.0",
      "_view_name": "HTMLView",
      "description": "",
      "description_tooltip": null,
      "layout": "IPY_MODEL_bd09079663094fb297c40610b43574d0",
      "placeholder": "​",
      "style": "IPY_MODEL_d48e17c19ff24cfd983d78dcb2e00f0c",
      "value": " 9913344/? [00:00&lt;00:00, 53688828.44it/s]"
     }
    },
    "3d7673a0f1d04418bb6f019256f41f2e": {
     "model_module": "@jupyter-widgets/base",
     "model_module_version": "1.2.0",
     "model_name": "LayoutModel",
     "state": {
      "_model_module": "@jupyter-widgets/base",
      "_model_module_version": "1.2.0",
      "_model_name": "LayoutModel",
      "_view_count": null,
      "_view_module": "@jupyter-widgets/base",
      "_view_module_version": "1.2.0",
      "_view_name": "LayoutView",
      "align_content": null,
      "align_items": null,
      "align_self": null,
      "border": null,
      "bottom": null,
      "display": null,
      "flex": null,
      "flex_flow": null,
      "grid_area": null,
      "grid_auto_columns": null,
      "grid_auto_flow": null,
      "grid_auto_rows": null,
      "grid_column": null,
      "grid_gap": null,
      "grid_row": null,
      "grid_template_areas": null,
      "grid_template_columns": null,
      "grid_template_rows": null,
      "height": null,
      "justify_content": null,
      "justify_items": null,
      "left": null,
      "margin": null,
      "max_height": null,
      "max_width": null,
      "min_height": null,
      "min_width": null,
      "object_fit": null,
      "object_position": null,
      "order": null,
      "overflow": null,
      "overflow_x": null,
      "overflow_y": null,
      "padding": null,
      "right": null,
      "top": null,
      "visibility": null,
      "width": null
     }
    },
    "40631ce7add746a8991aa66a2bdf7b26": {
     "model_module": "@jupyter-widgets/base",
     "model_module_version": "1.2.0",
     "model_name": "LayoutModel",
     "state": {
      "_model_module": "@jupyter-widgets/base",
      "_model_module_version": "1.2.0",
      "_model_name": "LayoutModel",
      "_view_count": null,
      "_view_module": "@jupyter-widgets/base",
      "_view_module_version": "1.2.0",
      "_view_name": "LayoutView",
      "align_content": null,
      "align_items": null,
      "align_self": null,
      "border": null,
      "bottom": null,
      "display": null,
      "flex": null,
      "flex_flow": null,
      "grid_area": null,
      "grid_auto_columns": null,
      "grid_auto_flow": null,
      "grid_auto_rows": null,
      "grid_column": null,
      "grid_gap": null,
      "grid_row": null,
      "grid_template_areas": null,
      "grid_template_columns": null,
      "grid_template_rows": null,
      "height": null,
      "justify_content": null,
      "justify_items": null,
      "left": null,
      "margin": null,
      "max_height": null,
      "max_width": null,
      "min_height": null,
      "min_width": null,
      "object_fit": null,
      "object_position": null,
      "order": null,
      "overflow": null,
      "overflow_x": null,
      "overflow_y": null,
      "padding": null,
      "right": null,
      "top": null,
      "visibility": null,
      "width": null
     }
    },
    "4a8f2251bbd8407e8e30382ad58ce19b": {
     "model_module": "@jupyter-widgets/controls",
     "model_module_version": "1.5.0",
     "model_name": "DescriptionStyleModel",
     "state": {
      "_model_module": "@jupyter-widgets/controls",
      "_model_module_version": "1.5.0",
      "_model_name": "DescriptionStyleModel",
      "_view_count": null,
      "_view_module": "@jupyter-widgets/base",
      "_view_module_version": "1.2.0",
      "_view_name": "StyleView",
      "description_width": ""
     }
    },
    "521dbbe063b241b6aa961f0153b86af3": {
     "model_module": "@jupyter-widgets/controls",
     "model_module_version": "1.5.0",
     "model_name": "DescriptionStyleModel",
     "state": {
      "_model_module": "@jupyter-widgets/controls",
      "_model_module_version": "1.5.0",
      "_model_name": "DescriptionStyleModel",
      "_view_count": null,
      "_view_module": "@jupyter-widgets/base",
      "_view_module_version": "1.2.0",
      "_view_name": "StyleView",
      "description_width": ""
     }
    },
    "545f9dc01bac44ef994ce12319ff5c90": {
     "model_module": "@jupyter-widgets/base",
     "model_module_version": "1.2.0",
     "model_name": "LayoutModel",
     "state": {
      "_model_module": "@jupyter-widgets/base",
      "_model_module_version": "1.2.0",
      "_model_name": "LayoutModel",
      "_view_count": null,
      "_view_module": "@jupyter-widgets/base",
      "_view_module_version": "1.2.0",
      "_view_name": "LayoutView",
      "align_content": null,
      "align_items": null,
      "align_self": null,
      "border": null,
      "bottom": null,
      "display": null,
      "flex": null,
      "flex_flow": null,
      "grid_area": null,
      "grid_auto_columns": null,
      "grid_auto_flow": null,
      "grid_auto_rows": null,
      "grid_column": null,
      "grid_gap": null,
      "grid_row": null,
      "grid_template_areas": null,
      "grid_template_columns": null,
      "grid_template_rows": null,
      "height": null,
      "justify_content": null,
      "justify_items": null,
      "left": null,
      "margin": null,
      "max_height": null,
      "max_width": null,
      "min_height": null,
      "min_width": null,
      "object_fit": null,
      "object_position": null,
      "order": null,
      "overflow": null,
      "overflow_x": null,
      "overflow_y": null,
      "padding": null,
      "right": null,
      "top": null,
      "visibility": null,
      "width": null
     }
    },
    "54cfef52eb394cfc85382f2b2304dd59": {
     "model_module": "@jupyter-widgets/controls",
     "model_module_version": "1.5.0",
     "model_name": "DescriptionStyleModel",
     "state": {
      "_model_module": "@jupyter-widgets/controls",
      "_model_module_version": "1.5.0",
      "_model_name": "DescriptionStyleModel",
      "_view_count": null,
      "_view_module": "@jupyter-widgets/base",
      "_view_module_version": "1.2.0",
      "_view_name": "StyleView",
      "description_width": ""
     }
    },
    "5508dfdf57f4415097611f20108dc60a": {
     "model_module": "@jupyter-widgets/base",
     "model_module_version": "1.2.0",
     "model_name": "LayoutModel",
     "state": {
      "_model_module": "@jupyter-widgets/base",
      "_model_module_version": "1.2.0",
      "_model_name": "LayoutModel",
      "_view_count": null,
      "_view_module": "@jupyter-widgets/base",
      "_view_module_version": "1.2.0",
      "_view_name": "LayoutView",
      "align_content": null,
      "align_items": null,
      "align_self": null,
      "border": null,
      "bottom": null,
      "display": null,
      "flex": null,
      "flex_flow": null,
      "grid_area": null,
      "grid_auto_columns": null,
      "grid_auto_flow": null,
      "grid_auto_rows": null,
      "grid_column": null,
      "grid_gap": null,
      "grid_row": null,
      "grid_template_areas": null,
      "grid_template_columns": null,
      "grid_template_rows": null,
      "height": null,
      "justify_content": null,
      "justify_items": null,
      "left": null,
      "margin": null,
      "max_height": null,
      "max_width": null,
      "min_height": null,
      "min_width": null,
      "object_fit": null,
      "object_position": null,
      "order": null,
      "overflow": null,
      "overflow_x": null,
      "overflow_y": null,
      "padding": null,
      "right": null,
      "top": null,
      "visibility": null,
      "width": null
     }
    },
    "5826b0510c574b11983ddd1f58688bfb": {
     "model_module": "@jupyter-widgets/base",
     "model_module_version": "1.2.0",
     "model_name": "LayoutModel",
     "state": {
      "_model_module": "@jupyter-widgets/base",
      "_model_module_version": "1.2.0",
      "_model_name": "LayoutModel",
      "_view_count": null,
      "_view_module": "@jupyter-widgets/base",
      "_view_module_version": "1.2.0",
      "_view_name": "LayoutView",
      "align_content": null,
      "align_items": null,
      "align_self": null,
      "border": null,
      "bottom": null,
      "display": null,
      "flex": null,
      "flex_flow": null,
      "grid_area": null,
      "grid_auto_columns": null,
      "grid_auto_flow": null,
      "grid_auto_rows": null,
      "grid_column": null,
      "grid_gap": null,
      "grid_row": null,
      "grid_template_areas": null,
      "grid_template_columns": null,
      "grid_template_rows": null,
      "height": null,
      "justify_content": null,
      "justify_items": null,
      "left": null,
      "margin": null,
      "max_height": null,
      "max_width": null,
      "min_height": null,
      "min_width": null,
      "object_fit": null,
      "object_position": null,
      "order": null,
      "overflow": null,
      "overflow_x": null,
      "overflow_y": null,
      "padding": null,
      "right": null,
      "top": null,
      "visibility": null,
      "width": null
     }
    },
    "5dd2e5ba37324e62b2d3b4fa946817e7": {
     "model_module": "@jupyter-widgets/controls",
     "model_module_version": "1.5.0",
     "model_name": "HBoxModel",
     "state": {
      "_dom_classes": [],
      "_model_module": "@jupyter-widgets/controls",
      "_model_module_version": "1.5.0",
      "_model_name": "HBoxModel",
      "_view_count": null,
      "_view_module": "@jupyter-widgets/controls",
      "_view_module_version": "1.5.0",
      "_view_name": "HBoxView",
      "box_style": "",
      "children": [
       "IPY_MODEL_7959c449a78d4716a1c334e610447843",
       "IPY_MODEL_c9e1cbf2f5c34094ac5f078fc18c0f1b",
       "IPY_MODEL_74fc29c1887345619be41a4cd10eda7f"
      ],
      "layout": "IPY_MODEL_0004dbbc8a5944efb136572bf5903eb8"
     }
    },
    "65a5bb2395c24147ba85d7136aaa17a6": {
     "model_module": "@jupyter-widgets/base",
     "model_module_version": "1.2.0",
     "model_name": "LayoutModel",
     "state": {
      "_model_module": "@jupyter-widgets/base",
      "_model_module_version": "1.2.0",
      "_model_name": "LayoutModel",
      "_view_count": null,
      "_view_module": "@jupyter-widgets/base",
      "_view_module_version": "1.2.0",
      "_view_name": "LayoutView",
      "align_content": null,
      "align_items": null,
      "align_self": null,
      "border": null,
      "bottom": null,
      "display": null,
      "flex": null,
      "flex_flow": null,
      "grid_area": null,
      "grid_auto_columns": null,
      "grid_auto_flow": null,
      "grid_auto_rows": null,
      "grid_column": null,
      "grid_gap": null,
      "grid_row": null,
      "grid_template_areas": null,
      "grid_template_columns": null,
      "grid_template_rows": null,
      "height": null,
      "justify_content": null,
      "justify_items": null,
      "left": null,
      "margin": null,
      "max_height": null,
      "max_width": null,
      "min_height": null,
      "min_width": null,
      "object_fit": null,
      "object_position": null,
      "order": null,
      "overflow": null,
      "overflow_x": null,
      "overflow_y": null,
      "padding": null,
      "right": null,
      "top": null,
      "visibility": null,
      "width": null
     }
    },
    "6e28424f25d3492c8fa3c09d119b66e0": {
     "model_module": "@jupyter-widgets/controls",
     "model_module_version": "1.5.0",
     "model_name": "HBoxModel",
     "state": {
      "_dom_classes": [],
      "_model_module": "@jupyter-widgets/controls",
      "_model_module_version": "1.5.0",
      "_model_name": "HBoxModel",
      "_view_count": null,
      "_view_module": "@jupyter-widgets/controls",
      "_view_module_version": "1.5.0",
      "_view_name": "HBoxView",
      "box_style": "",
      "children": [
       "IPY_MODEL_bf824a648b0a4adab3af81029013e097",
       "IPY_MODEL_275e804e4e3445308524fd5542fd6855",
       "IPY_MODEL_3d066fd0a90f4ff1ae905a9946a9cc8b"
      ],
      "layout": "IPY_MODEL_925c3519df6041ec917e0ea095eea486"
     }
    },
    "74fc29c1887345619be41a4cd10eda7f": {
     "model_module": "@jupyter-widgets/controls",
     "model_module_version": "1.5.0",
     "model_name": "HTMLModel",
     "state": {
      "_dom_classes": [],
      "_model_module": "@jupyter-widgets/controls",
      "_model_module_version": "1.5.0",
      "_model_name": "HTMLModel",
      "_view_count": null,
      "_view_module": "@jupyter-widgets/controls",
      "_view_module_version": "1.5.0",
      "_view_name": "HTMLView",
      "description": "",
      "description_tooltip": null,
      "layout": "IPY_MODEL_d05d63509d474c25bf7e3fca4a684a8e",
      "placeholder": "​",
      "style": "IPY_MODEL_ea7c1d22995346e4998919171c625c01",
      "value": " 1649664/? [00:00&lt;00:00, 15584774.66it/s]"
     }
    },
    "7959c449a78d4716a1c334e610447843": {
     "model_module": "@jupyter-widgets/controls",
     "model_module_version": "1.5.0",
     "model_name": "HTMLModel",
     "state": {
      "_dom_classes": [],
      "_model_module": "@jupyter-widgets/controls",
      "_model_module_version": "1.5.0",
      "_model_name": "HTMLModel",
      "_view_count": null,
      "_view_module": "@jupyter-widgets/controls",
      "_view_module_version": "1.5.0",
      "_view_name": "HTMLView",
      "description": "",
      "description_tooltip": null,
      "layout": "IPY_MODEL_5508dfdf57f4415097611f20108dc60a",
      "placeholder": "​",
      "style": "IPY_MODEL_021f0dc5f77c4d6280a79018d5c635d9",
      "value": ""
     }
    },
    "7a383ad9e6f64840b91f8425b013b464": {
     "model_module": "@jupyter-widgets/controls",
     "model_module_version": "1.5.0",
     "model_name": "ProgressStyleModel",
     "state": {
      "_model_module": "@jupyter-widgets/controls",
      "_model_module_version": "1.5.0",
      "_model_name": "ProgressStyleModel",
      "_view_count": null,
      "_view_module": "@jupyter-widgets/base",
      "_view_module_version": "1.2.0",
      "_view_name": "StyleView",
      "bar_color": null,
      "description_width": ""
     }
    },
    "7dad88b878de4300b88524b75ef21a74": {
     "model_module": "@jupyter-widgets/controls",
     "model_module_version": "1.5.0",
     "model_name": "HTMLModel",
     "state": {
      "_dom_classes": [],
      "_model_module": "@jupyter-widgets/controls",
      "_model_module_version": "1.5.0",
      "_model_name": "HTMLModel",
      "_view_count": null,
      "_view_module": "@jupyter-widgets/controls",
      "_view_module_version": "1.5.0",
      "_view_name": "HTMLView",
      "description": "",
      "description_tooltip": null,
      "layout": "IPY_MODEL_a1dc4a0dfa3d43b59df47d7647fff688",
      "placeholder": "​",
      "style": "IPY_MODEL_521dbbe063b241b6aa961f0153b86af3",
      "value": ""
     }
    },
    "863e19a96f0a4b3fbdbbc86b27816810": {
     "model_module": "@jupyter-widgets/controls",
     "model_module_version": "1.5.0",
     "model_name": "HBoxModel",
     "state": {
      "_dom_classes": [],
      "_model_module": "@jupyter-widgets/controls",
      "_model_module_version": "1.5.0",
      "_model_name": "HBoxModel",
      "_view_count": null,
      "_view_module": "@jupyter-widgets/controls",
      "_view_module_version": "1.5.0",
      "_view_name": "HBoxView",
      "box_style": "",
      "children": [
       "IPY_MODEL_87951953ceb44ff685614860a082d413",
       "IPY_MODEL_ff79313222a14379b44b04414d55331f",
       "IPY_MODEL_0b76aea01dbb4333a732c9d38319978a"
      ],
      "layout": "IPY_MODEL_5826b0510c574b11983ddd1f58688bfb"
     }
    },
    "87951953ceb44ff685614860a082d413": {
     "model_module": "@jupyter-widgets/controls",
     "model_module_version": "1.5.0",
     "model_name": "HTMLModel",
     "state": {
      "_dom_classes": [],
      "_model_module": "@jupyter-widgets/controls",
      "_model_module_version": "1.5.0",
      "_model_name": "HTMLModel",
      "_view_count": null,
      "_view_module": "@jupyter-widgets/controls",
      "_view_module_version": "1.5.0",
      "_view_name": "HTMLView",
      "description": "",
      "description_tooltip": null,
      "layout": "IPY_MODEL_8a761b2d78024cde81d90666d2088d0a",
      "placeholder": "​",
      "style": "IPY_MODEL_4a8f2251bbd8407e8e30382ad58ce19b",
      "value": ""
     }
    },
    "8a761b2d78024cde81d90666d2088d0a": {
     "model_module": "@jupyter-widgets/base",
     "model_module_version": "1.2.0",
     "model_name": "LayoutModel",
     "state": {
      "_model_module": "@jupyter-widgets/base",
      "_model_module_version": "1.2.0",
      "_model_name": "LayoutModel",
      "_view_count": null,
      "_view_module": "@jupyter-widgets/base",
      "_view_module_version": "1.2.0",
      "_view_name": "LayoutView",
      "align_content": null,
      "align_items": null,
      "align_self": null,
      "border": null,
      "bottom": null,
      "display": null,
      "flex": null,
      "flex_flow": null,
      "grid_area": null,
      "grid_auto_columns": null,
      "grid_auto_flow": null,
      "grid_auto_rows": null,
      "grid_column": null,
      "grid_gap": null,
      "grid_row": null,
      "grid_template_areas": null,
      "grid_template_columns": null,
      "grid_template_rows": null,
      "height": null,
      "justify_content": null,
      "justify_items": null,
      "left": null,
      "margin": null,
      "max_height": null,
      "max_width": null,
      "min_height": null,
      "min_width": null,
      "object_fit": null,
      "object_position": null,
      "order": null,
      "overflow": null,
      "overflow_x": null,
      "overflow_y": null,
      "padding": null,
      "right": null,
      "top": null,
      "visibility": null,
      "width": null
     }
    },
    "8c2ff38a81b245548102028ee6d5784e": {
     "model_module": "@jupyter-widgets/base",
     "model_module_version": "1.2.0",
     "model_name": "LayoutModel",
     "state": {
      "_model_module": "@jupyter-widgets/base",
      "_model_module_version": "1.2.0",
      "_model_name": "LayoutModel",
      "_view_count": null,
      "_view_module": "@jupyter-widgets/base",
      "_view_module_version": "1.2.0",
      "_view_name": "LayoutView",
      "align_content": null,
      "align_items": null,
      "align_self": null,
      "border": null,
      "bottom": null,
      "display": null,
      "flex": null,
      "flex_flow": null,
      "grid_area": null,
      "grid_auto_columns": null,
      "grid_auto_flow": null,
      "grid_auto_rows": null,
      "grid_column": null,
      "grid_gap": null,
      "grid_row": null,
      "grid_template_areas": null,
      "grid_template_columns": null,
      "grid_template_rows": null,
      "height": null,
      "justify_content": null,
      "justify_items": null,
      "left": null,
      "margin": null,
      "max_height": null,
      "max_width": null,
      "min_height": null,
      "min_width": null,
      "object_fit": null,
      "object_position": null,
      "order": null,
      "overflow": null,
      "overflow_x": null,
      "overflow_y": null,
      "padding": null,
      "right": null,
      "top": null,
      "visibility": null,
      "width": null
     }
    },
    "925c3519df6041ec917e0ea095eea486": {
     "model_module": "@jupyter-widgets/base",
     "model_module_version": "1.2.0",
     "model_name": "LayoutModel",
     "state": {
      "_model_module": "@jupyter-widgets/base",
      "_model_module_version": "1.2.0",
      "_model_name": "LayoutModel",
      "_view_count": null,
      "_view_module": "@jupyter-widgets/base",
      "_view_module_version": "1.2.0",
      "_view_name": "LayoutView",
      "align_content": null,
      "align_items": null,
      "align_self": null,
      "border": null,
      "bottom": null,
      "display": null,
      "flex": null,
      "flex_flow": null,
      "grid_area": null,
      "grid_auto_columns": null,
      "grid_auto_flow": null,
      "grid_auto_rows": null,
      "grid_column": null,
      "grid_gap": null,
      "grid_row": null,
      "grid_template_areas": null,
      "grid_template_columns": null,
      "grid_template_rows": null,
      "height": null,
      "justify_content": null,
      "justify_items": null,
      "left": null,
      "margin": null,
      "max_height": null,
      "max_width": null,
      "min_height": null,
      "min_width": null,
      "object_fit": null,
      "object_position": null,
      "order": null,
      "overflow": null,
      "overflow_x": null,
      "overflow_y": null,
      "padding": null,
      "right": null,
      "top": null,
      "visibility": null,
      "width": null
     }
    },
    "a0c5072c0df84f568d1fe3340f87baf3": {
     "model_module": "@jupyter-widgets/controls",
     "model_module_version": "1.5.0",
     "model_name": "HTMLModel",
     "state": {
      "_dom_classes": [],
      "_model_module": "@jupyter-widgets/controls",
      "_model_module_version": "1.5.0",
      "_model_name": "HTMLModel",
      "_view_count": null,
      "_view_module": "@jupyter-widgets/controls",
      "_view_module_version": "1.5.0",
      "_view_name": "HTMLView",
      "description": "",
      "description_tooltip": null,
      "layout": "IPY_MODEL_8c2ff38a81b245548102028ee6d5784e",
      "placeholder": "​",
      "style": "IPY_MODEL_14dfb6e86d42462b805141567e5a5b13",
      "value": " 29696/? [00:00&lt;00:00, 690359.95it/s]"
     }
    },
    "a1dc4a0dfa3d43b59df47d7647fff688": {
     "model_module": "@jupyter-widgets/base",
     "model_module_version": "1.2.0",
     "model_name": "LayoutModel",
     "state": {
      "_model_module": "@jupyter-widgets/base",
      "_model_module_version": "1.2.0",
      "_model_name": "LayoutModel",
      "_view_count": null,
      "_view_module": "@jupyter-widgets/base",
      "_view_module_version": "1.2.0",
      "_view_name": "LayoutView",
      "align_content": null,
      "align_items": null,
      "align_self": null,
      "border": null,
      "bottom": null,
      "display": null,
      "flex": null,
      "flex_flow": null,
      "grid_area": null,
      "grid_auto_columns": null,
      "grid_auto_flow": null,
      "grid_auto_rows": null,
      "grid_column": null,
      "grid_gap": null,
      "grid_row": null,
      "grid_template_areas": null,
      "grid_template_columns": null,
      "grid_template_rows": null,
      "height": null,
      "justify_content": null,
      "justify_items": null,
      "left": null,
      "margin": null,
      "max_height": null,
      "max_width": null,
      "min_height": null,
      "min_width": null,
      "object_fit": null,
      "object_position": null,
      "order": null,
      "overflow": null,
      "overflow_x": null,
      "overflow_y": null,
      "padding": null,
      "right": null,
      "top": null,
      "visibility": null,
      "width": null
     }
    },
    "b77d88208fab40f9be66f1b78ca9db5c": {
     "model_module": "@jupyter-widgets/controls",
     "model_module_version": "1.5.0",
     "model_name": "ProgressStyleModel",
     "state": {
      "_model_module": "@jupyter-widgets/controls",
      "_model_module_version": "1.5.0",
      "_model_name": "ProgressStyleModel",
      "_view_count": null,
      "_view_module": "@jupyter-widgets/base",
      "_view_module_version": "1.2.0",
      "_view_name": "StyleView",
      "bar_color": null,
      "description_width": ""
     }
    },
    "b7eeb1e4b3ea4d3cabb183823e11f676": {
     "model_module": "@jupyter-widgets/controls",
     "model_module_version": "1.5.0",
     "model_name": "DescriptionStyleModel",
     "state": {
      "_model_module": "@jupyter-widgets/controls",
      "_model_module_version": "1.5.0",
      "_model_name": "DescriptionStyleModel",
      "_view_count": null,
      "_view_module": "@jupyter-widgets/base",
      "_view_module_version": "1.2.0",
      "_view_name": "StyleView",
      "description_width": ""
     }
    },
    "bd09079663094fb297c40610b43574d0": {
     "model_module": "@jupyter-widgets/base",
     "model_module_version": "1.2.0",
     "model_name": "LayoutModel",
     "state": {
      "_model_module": "@jupyter-widgets/base",
      "_model_module_version": "1.2.0",
      "_model_name": "LayoutModel",
      "_view_count": null,
      "_view_module": "@jupyter-widgets/base",
      "_view_module_version": "1.2.0",
      "_view_name": "LayoutView",
      "align_content": null,
      "align_items": null,
      "align_self": null,
      "border": null,
      "bottom": null,
      "display": null,
      "flex": null,
      "flex_flow": null,
      "grid_area": null,
      "grid_auto_columns": null,
      "grid_auto_flow": null,
      "grid_auto_rows": null,
      "grid_column": null,
      "grid_gap": null,
      "grid_row": null,
      "grid_template_areas": null,
      "grid_template_columns": null,
      "grid_template_rows": null,
      "height": null,
      "justify_content": null,
      "justify_items": null,
      "left": null,
      "margin": null,
      "max_height": null,
      "max_width": null,
      "min_height": null,
      "min_width": null,
      "object_fit": null,
      "object_position": null,
      "order": null,
      "overflow": null,
      "overflow_x": null,
      "overflow_y": null,
      "padding": null,
      "right": null,
      "top": null,
      "visibility": null,
      "width": null
     }
    },
    "bf824a648b0a4adab3af81029013e097": {
     "model_module": "@jupyter-widgets/controls",
     "model_module_version": "1.5.0",
     "model_name": "HTMLModel",
     "state": {
      "_dom_classes": [],
      "_model_module": "@jupyter-widgets/controls",
      "_model_module_version": "1.5.0",
      "_model_name": "HTMLModel",
      "_view_count": null,
      "_view_module": "@jupyter-widgets/controls",
      "_view_module_version": "1.5.0",
      "_view_name": "HTMLView",
      "description": "",
      "description_tooltip": null,
      "layout": "IPY_MODEL_65a5bb2395c24147ba85d7136aaa17a6",
      "placeholder": "​",
      "style": "IPY_MODEL_b7eeb1e4b3ea4d3cabb183823e11f676",
      "value": ""
     }
    },
    "c9e1cbf2f5c34094ac5f078fc18c0f1b": {
     "model_module": "@jupyter-widgets/controls",
     "model_module_version": "1.5.0",
     "model_name": "FloatProgressModel",
     "state": {
      "_dom_classes": [],
      "_model_module": "@jupyter-widgets/controls",
      "_model_module_version": "1.5.0",
      "_model_name": "FloatProgressModel",
      "_view_count": null,
      "_view_module": "@jupyter-widgets/controls",
      "_view_module_version": "1.5.0",
      "_view_name": "ProgressView",
      "bar_style": "success",
      "description": "",
      "description_tooltip": null,
      "layout": "IPY_MODEL_d6ce28c52b3340f3bdc79acf905bb05b",
      "max": 1648877,
      "min": 0,
      "orientation": "horizontal",
      "style": "IPY_MODEL_7a383ad9e6f64840b91f8425b013b464",
      "value": 1648877
     }
    },
    "d05d63509d474c25bf7e3fca4a684a8e": {
     "model_module": "@jupyter-widgets/base",
     "model_module_version": "1.2.0",
     "model_name": "LayoutModel",
     "state": {
      "_model_module": "@jupyter-widgets/base",
      "_model_module_version": "1.2.0",
      "_model_name": "LayoutModel",
      "_view_count": null,
      "_view_module": "@jupyter-widgets/base",
      "_view_module_version": "1.2.0",
      "_view_name": "LayoutView",
      "align_content": null,
      "align_items": null,
      "align_self": null,
      "border": null,
      "bottom": null,
      "display": null,
      "flex": null,
      "flex_flow": null,
      "grid_area": null,
      "grid_auto_columns": null,
      "grid_auto_flow": null,
      "grid_auto_rows": null,
      "grid_column": null,
      "grid_gap": null,
      "grid_row": null,
      "grid_template_areas": null,
      "grid_template_columns": null,
      "grid_template_rows": null,
      "height": null,
      "justify_content": null,
      "justify_items": null,
      "left": null,
      "margin": null,
      "max_height": null,
      "max_width": null,
      "min_height": null,
      "min_width": null,
      "object_fit": null,
      "object_position": null,
      "order": null,
      "overflow": null,
      "overflow_x": null,
      "overflow_y": null,
      "padding": null,
      "right": null,
      "top": null,
      "visibility": null,
      "width": null
     }
    },
    "d48e17c19ff24cfd983d78dcb2e00f0c": {
     "model_module": "@jupyter-widgets/controls",
     "model_module_version": "1.5.0",
     "model_name": "DescriptionStyleModel",
     "state": {
      "_model_module": "@jupyter-widgets/controls",
      "_model_module_version": "1.5.0",
      "_model_name": "DescriptionStyleModel",
      "_view_count": null,
      "_view_module": "@jupyter-widgets/base",
      "_view_module_version": "1.2.0",
      "_view_name": "StyleView",
      "description_width": ""
     }
    },
    "d6ce28c52b3340f3bdc79acf905bb05b": {
     "model_module": "@jupyter-widgets/base",
     "model_module_version": "1.2.0",
     "model_name": "LayoutModel",
     "state": {
      "_model_module": "@jupyter-widgets/base",
      "_model_module_version": "1.2.0",
      "_model_name": "LayoutModel",
      "_view_count": null,
      "_view_module": "@jupyter-widgets/base",
      "_view_module_version": "1.2.0",
      "_view_name": "LayoutView",
      "align_content": null,
      "align_items": null,
      "align_self": null,
      "border": null,
      "bottom": null,
      "display": null,
      "flex": null,
      "flex_flow": null,
      "grid_area": null,
      "grid_auto_columns": null,
      "grid_auto_flow": null,
      "grid_auto_rows": null,
      "grid_column": null,
      "grid_gap": null,
      "grid_row": null,
      "grid_template_areas": null,
      "grid_template_columns": null,
      "grid_template_rows": null,
      "height": null,
      "justify_content": null,
      "justify_items": null,
      "left": null,
      "margin": null,
      "max_height": null,
      "max_width": null,
      "min_height": null,
      "min_width": null,
      "object_fit": null,
      "object_position": null,
      "order": null,
      "overflow": null,
      "overflow_x": null,
      "overflow_y": null,
      "padding": null,
      "right": null,
      "top": null,
      "visibility": null,
      "width": null
     }
    },
    "e9a8adc23c494aeba220522a506353a9": {
     "model_module": "@jupyter-widgets/controls",
     "model_module_version": "1.5.0",
     "model_name": "ProgressStyleModel",
     "state": {
      "_model_module": "@jupyter-widgets/controls",
      "_model_module_version": "1.5.0",
      "_model_name": "ProgressStyleModel",
      "_view_count": null,
      "_view_module": "@jupyter-widgets/base",
      "_view_module_version": "1.2.0",
      "_view_name": "StyleView",
      "bar_color": null,
      "description_width": ""
     }
    },
    "ea7c1d22995346e4998919171c625c01": {
     "model_module": "@jupyter-widgets/controls",
     "model_module_version": "1.5.0",
     "model_name": "DescriptionStyleModel",
     "state": {
      "_model_module": "@jupyter-widgets/controls",
      "_model_module_version": "1.5.0",
      "_model_name": "DescriptionStyleModel",
      "_view_count": null,
      "_view_module": "@jupyter-widgets/base",
      "_view_module_version": "1.2.0",
      "_view_name": "StyleView",
      "description_width": ""
     }
    },
    "ff79313222a14379b44b04414d55331f": {
     "model_module": "@jupyter-widgets/controls",
     "model_module_version": "1.5.0",
     "model_name": "FloatProgressModel",
     "state": {
      "_dom_classes": [],
      "_model_module": "@jupyter-widgets/controls",
      "_model_module_version": "1.5.0",
      "_model_name": "FloatProgressModel",
      "_view_count": null,
      "_view_module": "@jupyter-widgets/controls",
      "_view_module_version": "1.5.0",
      "_view_name": "ProgressView",
      "bar_style": "success",
      "description": "",
      "description_tooltip": null,
      "layout": "IPY_MODEL_40631ce7add746a8991aa66a2bdf7b26",
      "max": 4542,
      "min": 0,
      "orientation": "horizontal",
      "style": "IPY_MODEL_e9a8adc23c494aeba220522a506353a9",
      "value": 4542
     }
    }
   }
  }
 },
 "nbformat": 4,
 "nbformat_minor": 1
}
